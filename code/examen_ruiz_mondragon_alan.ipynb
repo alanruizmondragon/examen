{
 "cells": [
  {
   "cell_type": "markdown",
   "metadata": {},
   "source": [
    "# Examen"
   ]
  },
  {
   "attachments": {},
   "cell_type": "markdown",
   "metadata": {},
   "source": [
    "## Datos\n",
    "\n",
    "**Nombre:** Alan Ruiz Mondragón.  \n",
    "**Grupo:** 18."
   ]
  },
  {
   "attachments": {},
   "cell_type": "markdown",
   "metadata": {},
   "source": [
    "## Librerias"
   ]
  },
  {
   "cell_type": "code",
   "execution_count": null,
   "metadata": {},
   "outputs": [],
   "source": [
    "#Importamos librerias\n",
    "from  functools import reduce\n",
    "from  scipy.stats  import  normaltest\n",
    "from category_encoders.count import CountEncoder\n",
    "from plotly.offline import plot,iplot\n",
    "from scipy import stats\n",
    "from scipy.stats import chisquare\n",
    "from scipy.stats import ksone\n",
    "from sklearn.feature_extraction.text import CountVectorizer\n",
    "from sklearn.impute import SimpleImputer\n",
    "from sklearn.model_selection import train_test_split\n",
    "from sklearn.preprocessing import PolynomialFeatures\n",
    "from varclushi import VarClusHi\n",
    "import cufflinks as cf\n",
    "import datetime\n",
    "import emoji\n",
    "import jellyfish as jf\n",
    "import matplotlib.pyplot as plt\n",
    "import nltk\n",
    "import numpy as np\n",
    "import pandas as pd\n",
    "import pandas as pd\n",
    "import plotly.express as px\n",
    "import plotly.graph_objects as go\n",
    "import re \n",
    "import seaborn as sns\n",
    "import unicodedata\n",
    "import warnings\n",
    "warnings.filterwarnings(\"ignore\")\n",
    "\n",
    "#Definimos configuraciones\n",
    "cf.go_offline()\n",
    "pd.set_option(\"display.max_columns\",200)\n",
    "pd.set_option(\"display.max_rows\",200)"
   ]
  },
  {
   "attachments": {},
   "cell_type": "markdown",
   "metadata": {},
   "source": [
    "## Funciones"
   ]
  },
  {
   "cell_type": "code",
   "execution_count": null,
   "metadata": {},
   "outputs": [],
   "source": [
    "#Definimos una función para limpieza de texto\n",
    "def clean_text(text, pattern=\"[^a-zA-Z0-9]\"):\n",
    "    text=str(text)\n",
    "    cleaned_text = unicodedata.normalize('NFD', text).encode('ascii', 'ignore')\n",
    "    cleaned_text = re.sub(pattern, \" \", cleaned_text.decode(\"utf-8\"), flags=re.UNICODE)\n",
    "    cleaned_text = u' '.join(cleaned_text.lower().strip().lstrip().split())\n",
    "    return cleaned_text if cleaned_text!=\"nan\" else np.nan\n",
    "\n",
    "#Definimos una función para revisar la completitud de nuestras variables\n",
    "def completitud(df):\n",
    "    comple=pd.DataFrame(df.isnull().sum())\n",
    "    comple.reset_index(inplace=True)\n",
    "    comple=comple.rename(columns={\"index\":\"columna\",0:\"total\"})\n",
    "    comple[\"completitud\"]=(1-comple[\"total\"]/df.shape[0])*100\n",
    "    comple=comple.sort_values(by=\"completitud\",ascending=True)\n",
    "    comple.reset_index(drop=True,inplace=True)\n",
    "    return comple\n",
    "\n",
    "def unitarias(df,col):\n",
    "    result=pd.DataFrame(df[col].value_counts(1))\n",
    "    if result.shape[0]>0:\n",
    "        if (result[col].values[0]>.91) :\n",
    "            print(f\"{col} -- VARIABLE UNITARIA\")\n",
    "\n",
    "def categoricas(df,col):\n",
    "    result=pd.DataFrame(df[col].value_counts(1))\n",
    "    if result.shape[0]>0:\n",
    "        if (result[col].values[0]>.91) :\n",
    "            print(f\"{col} -- VARIABLE UNITARIA\")\n",
    "        result[col]=result[col].map(lambda x:str(round(x*100,2))+\"%\")\n",
    "        result.reset_index(inplace=True)\n",
    "        result.columns=[col+\"_valores\",\"%_aparicion\"]\n",
    "    return result\n",
    "\n",
    "def bar(df,col,title,x_title=\"\",y_title=\"\"):\n",
    "    layout = go.Layout(font_family=\"JetBrains Mono, monospace\",\n",
    "    font_color=\"black\",title_text=title,title_font_size=30,xaxis= {\"title\": {\"text\": x_title,\"font\": {\"family\": 'JetBrains Mono, monospace',\"size\": 18,\n",
    "        \"color\": '#000000'}}},yaxis= {\"title\": {\"text\": y_title,\"font\": {\"family\": 'JetBrains Mono monospace',\"size\": 18,\n",
    "        \"color\": '#000000'}}},title_font_family=\"JetBrains Mono, monospace\",title_font_color=\"#000000\",template=\"plotly_white\")\n",
    "    aux=pd.DataFrame(df[col].value_counts()).reset_index().rename(columns={\"index\":\"conteo\"})\n",
    "    fig=aux.iplot(kind='bar',x=\"conteo\",y=col,title=title,asFigure=True,barmode=\"overlay\",sortbars=True,color=\"#000000\",layout=layout)\n",
    "    fig.update_layout(width=800)\n",
    "    fig.update_traces(marker_color='#005a96')\n",
    "    return fig\n",
    "\n",
    "def pie(df,col,title,x_title=\"\",y_title=\"\"):\n",
    "    layout = go.Layout(font_family=\"JetBrains Mono, monospace\",\n",
    "    font_color=\"black\",title_text=title,title_font_size=30,xaxis= {\"title\": {\"text\": x_title,\"font\": {\"family\": 'JetBrains Mono, monospace',\"size\": 18,\n",
    "        \"color\": '#000000'}}},yaxis= {\"title\": {\"text\": y_title,\"font\": {\"family\": 'JetBrains Mono monospace',\"size\": 18,\n",
    "        \"color\": '#000000'}}},title_font_family=\"JetBrains Mono, monospace\",title_font_color=\"#000000\",template=\"plotly_white\")\n",
    "    #layout = go.Layout(template=\"plotly_white\")\n",
    "    colors=[ \"#581845\", \"#900c3f\",\"#c70039\",\"#ff5733\",\"#ffc305\",\"#005ba3\",\"#0061a9\",\"#1567af\",\"#226cb6\",\"#2c72bc\", \"#0061a9\",\"#4c79b7\",\"#7492c6\",\"#98acd4\",\"#bbc7e2\",\"#dde3f1\",\"#ffffff\"\n",
    "]\n",
    "    aux=pd.DataFrame(df[col].value_counts()).reset_index().rename(columns={\"index\":\"conteo\"})\n",
    "    fig=aux.iplot(kind='pie',labels=\"conteo\",values=col,title=title,asFigure=True,theme=\"white\")\n",
    "    \n",
    "    fig.update_traces(textfont_size=10,\n",
    "                  marker=dict(colors=colors, line=dict(color='#000000', width=2)))\n",
    "    fig.update_traces(textposition='inside', textinfo='percent+label')\n",
    "    fig.update_layout(font_family=\"Courier New, monospace\",\n",
    "    font_color=\"black\",title_text=title,title_font_size=30,title_font_family=\"Courier New, monospace\",title_font_color=\"#004878\",template=\"plotly_white\")\n",
    "    return fig\n",
    "    \n",
    "def box(df,col,title):\n",
    "    layout = go.Layout(font_family=\"Courier New, monospace\",\n",
    "    font_color=\"black\",title_text=title,title_font_size=30,xaxis= {\"title\": {\"font\": {\"family\": 'Courier New, monospace',\"size\": 18,\n",
    "        \"color\": '#002e4d'}}},title_font_family=\"Courier New, monospace\",title_font_color=\"#004878\",template=\"plotly_white\")\n",
    "    fig=df[[col]].iplot(kind='box',title=title,asFigure=True,theme=\"white\",layout=layout,color=\"#005a96\", boxpoints='outliers')\n",
    "    return fig\n",
    "\n",
    "def histogram(df,col,bins,title):\n",
    "    layout = go.Layout(font_family=\"Courier New, monospace\",\n",
    "    font_color=\"black\",title_text=title,title_font_size=30,xaxis= {\"title\": {\"font\": {\"family\": 'Courier New, monospace',\"size\": 18,\n",
    "        \"color\": '#002e4d'}}},title_font_family=\"Courier New, monospace\",title_font_color=\"#004878\",template=\"plotly_white\")\n",
    "    fig=df[[col]].iplot(kind='histogram',x=col,bins=bins,title=title,asFigure=True,theme=\"white\",layout=layout,color=\"#003e6c\")\n",
    "    fig.update_traces(opacity=0.90)\n",
    "    return fig\n",
    "\n",
    "def OUTLIERS(df,cols):\n",
    "    results=pd.DataFrame()\n",
    "    data_iqr=df.copy()\n",
    "    data_per=df.copy()\n",
    "    total=[]\n",
    "    total_per=[]\n",
    "    total_z=[]\n",
    "    indices_=[]\n",
    "\n",
    "    for col in cols:\n",
    "        #IQR\n",
    "        Q1=df[col].quantile(0.25)\n",
    "        Q3=df[col].quantile(0.75)\n",
    "        IQR=Q3-Q1\n",
    "        INF=Q1-1.5*(IQR)\n",
    "        SUP=Q3+1.5*(IQR)\n",
    "    \n",
    "        \n",
    "        n_outliers=df[(df[col] < INF) | (df[col] > SUP)].shape[0]\n",
    "        total.append(n_outliers)\n",
    "        indices_iqr=list(df[(df[col] < INF) | (df[col] > SUP)].index)\n",
    "        #data_iqr=data_iqr[~(data_iqr[col] < INF) | (data_iqr[col] > SUP)].reset_index(drop=True)\n",
    "        \n",
    "        #Percentiles\n",
    "        INF_pe=np.percentile(df[col].dropna(),5)\n",
    "    \n",
    "        SUP_pe=np.percentile(df[col].dropna(),95)\n",
    "        n_outliers_per=df[(df[col] < INF_pe) | (df[col] > SUP_pe)].shape[0]\n",
    "        total_per.append(n_outliers_per)\n",
    "        indices_per=list(df[(df[col] < INF_pe) | (df[col] > SUP_pe)].index)\n",
    "        #data_per=data_per[~(data_per[col] < INF_pe) | (data_per[col] > SUP_pe)].reset_index(drop=True)\n",
    "        \n",
    "        #MEAN CHANGE\n",
    "        \n",
    "        #Obtenemos todos los percentiles además del máximo\n",
    "        perc_100 = [x / 100 for x in range(100)]\n",
    "        dist = df[col].describe(perc_100).iloc[4:]\n",
    "        #Obtenemos el cambio entre percentiles\n",
    "        change_dist = df[col].describe(perc_100).iloc[4:].diff()\n",
    "        #Obtenemos el cambio promedio entre percentiles\n",
    "        mean_change = df[col].describe(\n",
    "            perc_100).iloc[4:].diff().mean()\n",
    "        #Si el cambio entre el percentil 99 y el maximo es mayor a el cambio promedio entonces:\n",
    "        if change_dist[\"max\"] > mean_change:\n",
    "            #La banda superior será el máximo menos el cambio promedio\n",
    "            ub = dist[\"max\"] - mean_change\n",
    "            #si la banda superior es más pequeña que el percentil 99 , modificamos la banda para que tome el percentil 99\n",
    "            if ub < dist[\"99%\"]:\n",
    "                ub = dist[\"99%\"]\n",
    "        else:\n",
    "        #Si el cambio entre el percentil 99 y el maximo es menor o igual a el cambio promedio entonces se toma el percentil 99\n",
    "            ub = dist[\"max\"]\n",
    "\n",
    "        if change_dist[\"1%\"] > mean_change:\n",
    "            lb = dist[\"0%\"] + mean_change\n",
    "            if lb > dist[\"1%\"]:\n",
    "                lb = dist[\"1%\"]\n",
    "        else:\n",
    "            lb = dist[\"0%\"]\n",
    "        n_total_z=df[(df[col] < lb) | (df[col] > ub)].shape[0]\n",
    "        total_z.append(n_total_z)\n",
    "        indices_z=list(df[(df[col] < lb) | (df[col] > ub)].index)\n",
    "        \n",
    "        indices_.append(aux_outliers(indices_iqr,indices_per,indices_z))\n",
    "        \n",
    "    results[\"features\"]=cols\n",
    "    results[\"n_outliers_IQR\"]=total\n",
    "    results[\"n_outliers_Percentil\"]=total_per\n",
    "    results[\"n_outliers_Mean_Change\"]=total_z\n",
    "    results[\"n_outliers_IQR_%\"]=round((results[\"n_outliers_IQR\"]/df.shape[0])*100,2)\n",
    "    results[\"n_outliers_Percentil_%\"]=round((results[\"n_outliers_Percentil\"]/df.shape[0])*100,2)\n",
    "    results[\"n_outliers_Mean_Change_%\"]=round((results[\"n_outliers_Mean_Change\"]/df.shape[0])*100,2)\n",
    "    results[\"indices\"]=indices_\n",
    "    results[\"total_outliers\"]=results[\"indices\"].map(lambda x:len(x))\n",
    "    results[\"%_outliers\"]=results[\"indices\"].map(lambda x:round(((len(x)/df.shape[0])*100),2))\n",
    "    results=results[['features', 'n_outliers_IQR', 'n_outliers_Percentil',\n",
    "       'n_outliers_Mean_Change', 'n_outliers_IQR_%', 'n_outliers_Percentil_%',\n",
    "       'n_outliers_Mean_Change_%',  'total_outliers', '%_outliers','indices']]\n",
    "    return results\n",
    "\n",
    "def missings_digit(x):\n",
    "    if sum([y.isdigit() for y in str(x)])>0:\n",
    "        result=np.nan\n",
    "    else:\n",
    "        result=x\n",
    "    return result\n",
    "\n",
    "def aux_outliers(a,b,c):\n",
    "    a=set(a)\n",
    "    b=set(b)\n",
    "    c=set(c)\n",
    "    \n",
    "    a_=a.intersection(b)\n",
    "\n",
    "    b_=b.intersection(c)\n",
    "\n",
    "    c_=a.intersection(c)\n",
    "\n",
    "    outliers_index=list(set(list(a_)+list(b_)+list(c_)))\n",
    "    return outliers_index\n",
    "\n",
    "def chi_square(df,col,valor_miss):\n",
    "    x_i=df[col].fillna(valor_miss).value_counts()\n",
    "    k=x_i.sum()\n",
    "    p_i=df[col].dropna().value_counts(1)\n",
    "    m_i=k*p_i\n",
    "    print(x_i)\n",
    "    print(m_i)\n",
    "    chi=chisquare(f_obs=x_i,f_exp=m_i)\n",
    "    p_val=chi.pvalue\n",
    "    alpha=0.05\n",
    "    if p_val<alpha:\n",
    "        print(\"Rechazamos HO (La porporción de categorias es la misma que la general)\")\n",
    "    else:\n",
    "        print(\"Aceptamos HO (La porporción de categorias es la misma que la general)\")"
   ]
  },
  {
   "attachments": {},
   "cell_type": "markdown",
   "metadata": {},
   "source": [
    "## Datasets"
   ]
  },
  {
   "cell_type": "code",
   "execution_count": null,
   "metadata": {},
   "outputs": [],
   "source": [
    "#Cargamos los datos\n",
    "#Cargamos el dataset principal\n",
    "df = pd.read_csv('/Users/alanruizmondragon/Documents/PERSONAL/Code/Diplomados/Ciencia de datos/Modulo I/examen/data/data_examen.csv')\n",
    "#Nombramos al dataset secuendario\n",
    "df1 = pd.read_csv('/Users/alanruizmondragon/Documents/PERSONAL/Code/Diplomados/Ciencia de datos/Modulo I/examen/data/ocupaciones_examen.csv')"
   ]
  },
  {
   "attachments": {},
   "cell_type": "markdown",
   "metadata": {},
   "source": [
    "### Créditos"
   ]
  },
  {
   "attachments": {},
   "cell_type": "markdown",
   "metadata": {},
   "source": [
    "**Contenido**\n",
    "\n",
    "El primer dataset hace referencia información relacionada con las características de personas que aplicaron para solicitar un crédito, adicional a esa información se cuenta\n",
    "con una variable ”tgt” que representa una variable objetivo que toma el valor de 1 si se otorgó el crédito y 0 si se rechazó la solicitud."
   ]
  },
  {
   "cell_type": "code",
   "execution_count": null,
   "metadata": {},
   "outputs": [],
   "source": [
    "#Visualizamos el dataset principal\n",
    "df.head(5)"
   ]
  },
  {
   "attachments": {},
   "cell_type": "markdown",
   "metadata": {},
   "source": [
    "**Tamaño**"
   ]
  },
  {
   "cell_type": "code",
   "execution_count": null,
   "metadata": {},
   "outputs": [],
   "source": [
    "#Visualizamos el tamaño del dataset\n",
    "df.shape"
   ]
  },
  {
   "attachments": {},
   "cell_type": "markdown",
   "metadata": {},
   "source": [
    "**Formato**"
   ]
  },
  {
   "cell_type": "code",
   "execution_count": null,
   "metadata": {},
   "outputs": [],
   "source": [
    "#Visualizamos la información del dataset\n",
    "df.info()"
   ]
  },
  {
   "attachments": {},
   "cell_type": "markdown",
   "metadata": {},
   "source": [
    "**Diccionario**"
   ]
  },
  {
   "cell_type": "code",
   "execution_count": null,
   "metadata": {},
   "outputs": [],
   "source": [
    "#Cargamos el diccionario de datos del dataset principal\n",
    "diccionario = pd.read_excel('/Users/alanruizmondragon/Documents/PERSONAL/Code/Diplomados/Ciencia de datos/Modulo I/examen/diccionario/VariablesList.xlsx')"
   ]
  },
  {
   "cell_type": "code",
   "execution_count": null,
   "metadata": {},
   "outputs": [],
   "source": [
    "#Visualizamos el diccionario de datos del dataset principal \n",
    "diccionario"
   ]
  },
  {
   "attachments": {},
   "cell_type": "markdown",
   "metadata": {},
   "source": [
    "### Ocupaciones"
   ]
  },
  {
   "attachments": {},
   "cell_type": "markdown",
   "metadata": {},
   "source": [
    "**Contenido**\n",
    "\n",
    "El segundo dataset contiene las profesiones y los códigos respectivos a estas."
   ]
  },
  {
   "cell_type": "code",
   "execution_count": null,
   "metadata": {},
   "outputs": [],
   "source": [
    "#Visualizamos el dataset principal\n",
    "df1.head(5)"
   ]
  },
  {
   "attachments": {},
   "cell_type": "markdown",
   "metadata": {},
   "source": [
    "**Tamaño** "
   ]
  },
  {
   "cell_type": "code",
   "execution_count": null,
   "metadata": {},
   "outputs": [],
   "source": [
    "#Visualizamos el tamaño del dataset\n",
    "df1.shape"
   ]
  },
  {
   "attachments": {},
   "cell_type": "markdown",
   "metadata": {},
   "source": [
    "**Formato**"
   ]
  },
  {
   "cell_type": "code",
   "execution_count": null,
   "metadata": {},
   "outputs": [],
   "source": [
    "#Visualizamos la información del dataset\n",
    "df1.info()"
   ]
  },
  {
   "attachments": {},
   "cell_type": "markdown",
   "metadata": {},
   "source": [
    "## Calidad de datos"
   ]
  },
  {
   "attachments": {},
   "cell_type": "markdown",
   "metadata": {},
   "source": [
    "### Definición\n",
    "\n",
    "La calidad de datos se refiere al grado en que los datos se ajustan a los criterios establecidos para su uso. Estos criterios de calidad de los datos abarcan aspectos como exactitud, coherencia, actualización, exhaustividad y decirigibilidad. La calidad de los datos es uno de los principales factores en el éxito de la base de datos. Si los datos no cumplen con los criterios de calidad adecuados, la información generada a partir de dichos datos también será maliciosa o inútil. Por lo tanto, es crítica la necesidad de vigilancia y mejora de la calidad de los datos."
   ]
  },
  {
   "attachments": {},
   "cell_type": "markdown",
   "metadata": {},
   "source": [
    "### Etiquetado de variables"
   ]
  },
  {
   "attachments": {},
   "cell_type": "markdown",
   "metadata": {},
   "source": [
    "#### Contenido\n",
    "\n",
    "Visualizamos el contenido y las columnas de los datasets nuevamente para registrar los siguientes pasos de calidad."
   ]
  },
  {
   "attachments": {},
   "cell_type": "markdown",
   "metadata": {},
   "source": [
    "##### Dataset princial"
   ]
  },
  {
   "cell_type": "code",
   "execution_count": null,
   "metadata": {},
   "outputs": [],
   "source": [
    "#Visualizamos las columnas contenidas dentro del dataset principal\n",
    "df.columns"
   ]
  },
  {
   "cell_type": "code",
   "execution_count": null,
   "metadata": {},
   "outputs": [],
   "source": [
    "#Visualizamos el contenido del datset principal\n",
    "df.info()"
   ]
  },
  {
   "cell_type": "code",
   "execution_count": null,
   "metadata": {},
   "outputs": [],
   "source": [
    "#Visualizamos la distribución del contenido por tipos de datos de la columna del dataset principal \n",
    "df.dtypes.value_counts()"
   ]
  },
  {
   "attachments": {},
   "cell_type": "markdown",
   "metadata": {},
   "source": [
    "**Distribución del contenido**\n",
    "\n",
    "Los tipos de datos contenidos en el dataset se distribuyen de la siguiente manera\n",
    "\n",
    "- Columnas de tipo Object: 16\n",
    "- Columnas de tipo int: 13\n",
    "- Columnas de tipo float: 3"
   ]
  },
  {
   "attachments": {},
   "cell_type": "markdown",
   "metadata": {},
   "source": [
    "##### Dataset secundario"
   ]
  },
  {
   "cell_type": "code",
   "execution_count": null,
   "metadata": {},
   "outputs": [],
   "source": [
    "#Visualizamos las columnas contenidas dentro del dataset principal\n",
    "df1.columns"
   ]
  },
  {
   "cell_type": "code",
   "execution_count": null,
   "metadata": {},
   "outputs": [],
   "source": [
    "#Visualizamos el contenido del datset secundario\n",
    "df1.info()"
   ]
  },
  {
   "cell_type": "code",
   "execution_count": null,
   "metadata": {},
   "outputs": [],
   "source": [
    "#Visualizamos la distribución del contenido por tipos de datos de la columna del dataset secundario \n",
    "df1.dtypes.value_counts()"
   ]
  },
  {
   "attachments": {},
   "cell_type": "markdown",
   "metadata": {},
   "source": [
    "**Distribución del contenido**\n",
    "\n",
    "Los tipos de datos contenidos en el dataset se distribuyen de la siguiente manera\n",
    "\n",
    "- Columnas de tipo int: 1\n",
    "- Columnas de tipo object: 1"
   ]
  },
  {
   "attachments": {},
   "cell_type": "markdown",
   "metadata": {},
   "source": [
    "#### Prefijos\n",
    "\n",
    "Realizamos el etiquetado de las variables utilizando los siguientes prefijos que utilizaremos para los tipos de variables se describen de la siguiente manera\n",
    "\n",
    "- **c_**: Variables numericas (discretas y continuas).\n",
    "- **v_**: Variables categoricas.\n",
    "- **d_**: Variables tipo fecha.\n",
    "- **t_**: Variables de texto (comentarios, descripciones, url, etc.).\n",
    "- **g_**: Variables geograficas."
   ]
  },
  {
   "attachments": {},
   "cell_type": "markdown",
   "metadata": {},
   "source": [
    "#### Etiquetado"
   ]
  },
  {
   "attachments": {},
   "cell_type": "markdown",
   "metadata": {},
   "source": [
    "**Dataset principal**"
   ]
  },
  {
   "cell_type": "code",
   "execution_count": null,
   "metadata": {},
   "outputs": [],
   "source": [
    "#Realizamos el etiquetado de las variables del datset principal de acuerdo a los prefijos anteriormente establecidos\n",
    "c_feats=['ID_CLIENT', 'ID_SHOP', 'AGE', 'QUANT_DEPENDANTS', 'PAYMENT_DAY', 'SHOP_RANK',\n",
    "        'AREA_CODE_RESIDENCIAL_PHONE', 'MONTHS_IN_RESIDENCE', 'MATE_INCOME', 'PERSONAL_NET_INCOME', 'COD_APPLICATION_BOOTH', 'PROFESSION_CODE',\n",
    "        'QUANT_ADDITIONAL_CARDS_IN_THE_APPLICATION', 'MONTHS_IN_THE_JOB', 'QUANT_BANKING_ACCOUNTS']\n",
    "v_feats=['SEX', 'EDUCATION', 'MARITAL_STATUS', 'FLAG_MOTHERS_NAME', 'FLAG_FATHERS_NAME', 'FLAG_RESIDENCE_STATE=WORKING_STATE',\n",
    "        'FLAG_RESIDENCIAL_ADDRESS=POSTAL_ADDRESS', 'FLAG_OTHER_CARD', 'RESIDENCE_TYPE', 'FLAG_RESIDENCE_TOWN=WORKING_TOWN', 'FLAG_RESIDENCIAL_PHONE', 'FLAG_MOBILE_PHONE', \n",
    "        'FLAG_CONTACT_PHONE', 'FLAG_CARD_INSURANCE_OPTION']\n",
    "t_feats=['PERSONAL_REFERENCE_#1', 'PERSONAL_REFERENCE_#2']"
   ]
  },
  {
   "cell_type": "code",
   "execution_count": null,
   "metadata": {},
   "outputs": [],
   "source": [
    "#Aplicamos \n",
    "c_feats_new = [\"c_\" + x for x in c_feats]\n",
    "v_feats_new = [\"v_\" + x for x in v_feats]\n",
    "t_feats_new = [\"t_\" + x for x in t_feats]\n",
    "\n",
    "#Renombramos las columnas\n",
    "df.rename(columns = dict(zip(c_feats, c_feats_new)), inplace = True)\n",
    "df.rename(columns = dict(zip(v_feats, v_feats_new)), inplace = True)\n",
    "df.rename(columns = dict(zip(t_feats, t_feats_new)), inplace = True)"
   ]
  },
  {
   "cell_type": "code",
   "execution_count": null,
   "metadata": {},
   "outputs": [],
   "source": [
    "#Transformamos nuestras columnas en minisculas para una mejor visualización y manipulación futura\n",
    "df.columns = df.columns.str.lower()"
   ]
  },
  {
   "cell_type": "code",
   "execution_count": null,
   "metadata": {},
   "outputs": [],
   "source": [
    "#Validamos el etiquetado\n",
    "df.columns"
   ]
  },
  {
   "attachments": {},
   "cell_type": "markdown",
   "metadata": {},
   "source": [
    "**Dataset secundario**"
   ]
  },
  {
   "cell_type": "code",
   "execution_count": null,
   "metadata": {},
   "outputs": [],
   "source": [
    "df1"
   ]
  },
  {
   "cell_type": "code",
   "execution_count": null,
   "metadata": {},
   "outputs": [],
   "source": [
    "#Realizamos el etiquetado de las variables del datset principal de acuerdo a los prefijos anteriormente establecidos\n",
    "c_feats = ['PROFESSION_CODE']\n",
    "v_feats = ['PROFESSION']"
   ]
  },
  {
   "cell_type": "code",
   "execution_count": null,
   "metadata": {},
   "outputs": [],
   "source": [
    "#Aplicamos \n",
    "c_feats_new =[\"c_\" + x for x in c_feats]\n",
    "v_feats_new =[\"v_\" + x for x in v_feats]\n",
    "\n",
    "#Renombramos las columnas\n",
    "df1.rename(columns=dict(zip(c_feats, c_feats_new)),inplace=True)\n",
    "df1.rename(columns=dict(zip(v_feats, v_feats_new)),inplace=True)"
   ]
  },
  {
   "cell_type": "code",
   "execution_count": null,
   "metadata": {},
   "outputs": [],
   "source": [
    "#Transformamos nuestras columnas en minisculas para una mejor visualización y manipulación futura\n",
    "df1.columns = df1.columns.str.lower()"
   ]
  },
  {
   "cell_type": "code",
   "execution_count": null,
   "metadata": {},
   "outputs": [],
   "source": [
    "#Validamos el etiquetado\n",
    "df1.columns"
   ]
  },
  {
   "attachments": {},
   "cell_type": "markdown",
   "metadata": {},
   "source": [
    "### Duplicados"
   ]
  },
  {
   "attachments": {},
   "cell_type": "markdown",
   "metadata": {},
   "source": [
    "#### General"
   ]
  },
  {
   "attachments": {},
   "cell_type": "markdown",
   "metadata": {},
   "source": [
    "**Dataset principal**\n",
    "\n",
    "Con el resultado de siguiente código podemos observar la existencia de **5** valores duplicados en todo el dataset"
   ]
  },
  {
   "cell_type": "code",
   "execution_count": null,
   "metadata": {},
   "outputs": [],
   "source": [
    "#Total de registros duplicados de forma general\n",
    "df.duplicated().sum()"
   ]
  },
  {
   "cell_type": "code",
   "execution_count": null,
   "metadata": {},
   "outputs": [],
   "source": [
    "#Visualizamos los duplicados \n",
    "df[df.duplicated()]"
   ]
  },
  {
   "cell_type": "code",
   "execution_count": null,
   "metadata": {},
   "outputs": [],
   "source": [
    "#Mantenemos el primer elemento de los duplicados\n",
    "df.drop_duplicates(keep = 'first', inplace = True)"
   ]
  },
  {
   "cell_type": "code",
   "execution_count": null,
   "metadata": {},
   "outputs": [],
   "source": [
    "#Visualizamos el dataset principal y observamos que se han eliminado los duplicados\n",
    "df"
   ]
  },
  {
   "attachments": {},
   "cell_type": "markdown",
   "metadata": {},
   "source": [
    "**Dataset secundario**\n",
    "\n",
    "Con el resultado de siguiente código podemos observar la existencia de **0** valores duplicados en todo el dataset."
   ]
  },
  {
   "cell_type": "code",
   "execution_count": null,
   "metadata": {},
   "outputs": [],
   "source": [
    "#Total de registros duplicados de forma general\n",
    "df1.duplicated().sum()"
   ]
  },
  {
   "cell_type": "code",
   "execution_count": null,
   "metadata": {},
   "outputs": [],
   "source": [
    "#Visualizamos el dataset principal y observamos que se han eliminado los duplicados\n",
    "df1"
   ]
  },
  {
   "attachments": {},
   "cell_type": "markdown",
   "metadata": {
    "id": "LZ-0FGaqjpOB"
   },
   "source": [
    "### Completitud"
   ]
  },
  {
   "attachments": {},
   "cell_type": "markdown",
   "metadata": {},
   "source": [
    "#### Dataset principal"
   ]
  },
  {
   "cell_type": "code",
   "execution_count": null,
   "metadata": {
    "colab": {
     "base_uri": "https://localhost:8080/"
    },
    "executionInfo": {
     "elapsed": 4,
     "status": "ok",
     "timestamp": 1641449134742,
     "user": {
      "displayName": "Carla Malerva",
      "photoUrl": "https://lh3.googleusercontent.com/a-/AOh14GjNlIE_sAb2MPPCqHyH00Tlnx-6nrazj3PJ8dy1fA=s64",
      "userId": "06563397481861713440"
     },
     "user_tz": 360
    },
    "id": "-I_cstA5jpOC",
    "outputId": "ab25a2e2-17c2-4ab2-defd-07e78b31769d"
   },
   "outputs": [],
   "source": [
    "df.isnull().sum(0)"
   ]
  },
  {
   "cell_type": "code",
   "execution_count": null,
   "metadata": {
    "colab": {
     "base_uri": "https://localhost:8080/",
     "height": 645
    },
    "executionInfo": {
     "elapsed": 565,
     "status": "ok",
     "timestamp": 1641450269946,
     "user": {
      "displayName": "Carla Malerva",
      "photoUrl": "https://lh3.googleusercontent.com/a-/AOh14GjNlIE_sAb2MPPCqHyH00Tlnx-6nrazj3PJ8dy1fA=s64",
      "userId": "06563397481861713440"
     },
     "user_tz": 360
    },
    "id": "rph7ewGVjpOC",
    "outputId": "a1647941-c6fb-4ba6-87cb-cc255bbc0aed"
   },
   "outputs": [],
   "source": [
    "#Revisamos la completitud de las columnas del dataset\n",
    "completitud(df)"
   ]
  },
  {
   "attachments": {},
   "cell_type": "markdown",
   "metadata": {
    "executionInfo": {
     "elapsed": 11,
     "status": "ok",
     "timestamp": 1641449135284,
     "user": {
      "displayName": "Carla Malerva",
      "photoUrl": "https://lh3.googleusercontent.com/a-/AOh14GjNlIE_sAb2MPPCqHyH00Tlnx-6nrazj3PJ8dy1fA=s64",
      "userId": "06563397481861713440"
     },
     "user_tz": 360
    },
    "id": "uI2KzmrLjpOD"
   },
   "source": [
    "**Observaciones**\n",
    "\n",
    "Se recomienda que las variables esten completas en al menos 80%, de modo que las que no cumplan con esta condición serán eliminadas. En este sentido, y para el presente análisis, las columnas que no cumplen con dicha regla y que deberían ser eliminadas se enlistan a continuación:\n",
    "\n",
    "- v_education\n",
    "- t_personal_reference_#1\n",
    "- t_personal_reference_#2\n"
   ]
  },
  {
   "cell_type": "code",
   "execution_count": null,
   "metadata": {
    "colab": {
     "base_uri": "https://localhost:8080/"
    },
    "executionInfo": {
     "elapsed": 11,
     "status": "ok",
     "timestamp": 1641449135285,
     "user": {
      "displayName": "Carla Malerva",
      "photoUrl": "https://lh3.googleusercontent.com/a-/AOh14GjNlIE_sAb2MPPCqHyH00Tlnx-6nrazj3PJ8dy1fA=s64",
      "userId": "06563397481861713440"
     },
     "user_tz": 360
    },
    "id": "xNqzItc4jpOD",
    "outputId": "ff445121-f1d2-4794-a121-0315f32c2d5e"
   },
   "outputs": [],
   "source": [
    "#Revisamos nuevamente el tamaño antes de eliminar las columnas con información incompleta \n",
    "df.shape"
   ]
  },
  {
   "cell_type": "code",
   "execution_count": null,
   "metadata": {},
   "outputs": [],
   "source": [
    "#Eliminamos las columnas con información incompleta\n",
    "df.drop(columns = [\"v_education\", \"t_personal_reference_#1\", \"t_personal_reference_#2\"], inplace = True)"
   ]
  },
  {
   "cell_type": "code",
   "execution_count": null,
   "metadata": {
    "colab": {
     "base_uri": "https://localhost:8080/"
    },
    "executionInfo": {
     "elapsed": 5,
     "status": "ok",
     "timestamp": 1641449135644,
     "user": {
      "displayName": "Carla Malerva",
      "photoUrl": "https://lh3.googleusercontent.com/a-/AOh14GjNlIE_sAb2MPPCqHyH00Tlnx-6nrazj3PJ8dy1fA=s64",
      "userId": "06563397481861713440"
     },
     "user_tz": 360
    },
    "id": "CWGdyn2DjpOE",
    "outputId": "799dc012-1f2d-4be0-c593-a76fe6931943"
   },
   "outputs": [],
   "source": [
    "##Revisamos nuevamente el tamaño despúes de haber de eliminado las columnas con información incompleta \n",
    "df.shape"
   ]
  },
  {
   "cell_type": "code",
   "execution_count": null,
   "metadata": {
    "colab": {
     "base_uri": "https://localhost:8080/",
     "height": 613
    },
    "executionInfo": {
     "elapsed": 722,
     "status": "ok",
     "timestamp": 1641449136362,
     "user": {
      "displayName": "Carla Malerva",
      "photoUrl": "https://lh3.googleusercontent.com/a-/AOh14GjNlIE_sAb2MPPCqHyH00Tlnx-6nrazj3PJ8dy1fA=s64",
      "userId": "06563397481861713440"
     },
     "user_tz": 360
    },
    "id": "9aDyR3o0jpOF",
    "outputId": "2193ed52-56e0-489b-f0dd-1a0383d1cd89"
   },
   "outputs": [],
   "source": [
    "#Revisamos que no quedan columnas incompletas, es decir, con información menor del 80% \n",
    "completitud(df)"
   ]
  },
  {
   "attachments": {},
   "cell_type": "markdown",
   "metadata": {},
   "source": [
    "#### Dataset secundario"
   ]
  },
  {
   "cell_type": "code",
   "execution_count": null,
   "metadata": {
    "colab": {
     "base_uri": "https://localhost:8080/"
    },
    "executionInfo": {
     "elapsed": 4,
     "status": "ok",
     "timestamp": 1641449134742,
     "user": {
      "displayName": "Carla Malerva",
      "photoUrl": "https://lh3.googleusercontent.com/a-/AOh14GjNlIE_sAb2MPPCqHyH00Tlnx-6nrazj3PJ8dy1fA=s64",
      "userId": "06563397481861713440"
     },
     "user_tz": 360
    },
    "id": "-I_cstA5jpOC",
    "outputId": "ab25a2e2-17c2-4ab2-defd-07e78b31769d"
   },
   "outputs": [],
   "source": [
    "df1.isnull().sum(0)"
   ]
  },
  {
   "cell_type": "code",
   "execution_count": null,
   "metadata": {
    "colab": {
     "base_uri": "https://localhost:8080/",
     "height": 645
    },
    "executionInfo": {
     "elapsed": 565,
     "status": "ok",
     "timestamp": 1641450269946,
     "user": {
      "displayName": "Carla Malerva",
      "photoUrl": "https://lh3.googleusercontent.com/a-/AOh14GjNlIE_sAb2MPPCqHyH00Tlnx-6nrazj3PJ8dy1fA=s64",
      "userId": "06563397481861713440"
     },
     "user_tz": 360
    },
    "id": "rph7ewGVjpOC",
    "outputId": "a1647941-c6fb-4ba6-87cb-cc255bbc0aed"
   },
   "outputs": [],
   "source": [
    "#Revisamos la completitud de las columnas del dataset\n",
    "completitud(df1)"
   ]
  },
  {
   "attachments": {},
   "cell_type": "markdown",
   "metadata": {
    "executionInfo": {
     "elapsed": 11,
     "status": "ok",
     "timestamp": 1641449135284,
     "user": {
      "displayName": "Carla Malerva",
      "photoUrl": "https://lh3.googleusercontent.com/a-/AOh14GjNlIE_sAb2MPPCqHyH00Tlnx-6nrazj3PJ8dy1fA=s64",
      "userId": "06563397481861713440"
     },
     "user_tz": 360
    },
    "id": "uI2KzmrLjpOD"
   },
   "source": [
    "**Observaciones**\n",
    "\n",
    "No se encuentran variables incompletas\n"
   ]
  },
  {
   "attachments": {},
   "cell_type": "markdown",
   "metadata": {},
   "source": [
    "### Variables fuera de naturaleza"
   ]
  },
  {
   "attachments": {},
   "cell_type": "markdown",
   "metadata": {},
   "source": [
    "#### Categóricas"
   ]
  },
  {
   "cell_type": "code",
   "execution_count": null,
   "metadata": {},
   "outputs": [],
   "source": [
    "#Revisamos las variables categoricas con la siguiente iteración donde se filtran los valores de las variable de forma única y en un formato de cadena\n",
    "for i in df.filter(like=\"v_\"):\n",
    "  print(i)\n",
    "  values = df[i].astype(str).unique()\n",
    "  values.sort()\n",
    "  display(values)\n",
    "  print(\"\\n\")"
   ]
  },
  {
   "attachments": {},
   "cell_type": "markdown",
   "metadata": {},
   "source": [
    "**Variables a reemplazar con valores NaN**\n",
    "\n",
    "Al revisar las variables categóricas se pueden observar las siguientes variables con inconsistencias para reemplazra con valores NaN:\n",
    "\n",
    "1. **v_sex**: Esta variable contiene dos formas diferentes de representación de nulos.\n",
    "4. **v_residence_type**: Esta variable contiene valores nulos representados como espacios ---> ' '."
   ]
  },
  {
   "attachments": {},
   "cell_type": "markdown",
   "metadata": {},
   "source": [
    "**Observaciones**\n",
    "\n",
    "Las variables **v_marital_status**, **v_flag_residencial_phone** y **v_residence_type**, deberán ser limpiadas más adelante por tener inconsistencias en la presentación de sus categorías."
   ]
  },
  {
   "attachments": {},
   "cell_type": "markdown",
   "metadata": {},
   "source": [
    "#### Continuas"
   ]
  },
  {
   "cell_type": "code",
   "execution_count": null,
   "metadata": {},
   "outputs": [],
   "source": [
    "#Revisamos las variables continuas con la siguiente iteración donde se filtran los valores de las variable de forma única y en un formato de cadena\n",
    "for i in df.filter(like=\"c_\"):\n",
    "  print(i)\n",
    "  values = df[i].astype(str).unique()\n",
    "  values.sort()\n",
    "  display(values)\n",
    "  print(\"\\n\")"
   ]
  },
  {
   "attachments": {},
   "cell_type": "markdown",
   "metadata": {},
   "source": [
    "##### Validaciones\n",
    "\n",
    "Debido a que los valores únicos para las variables continuas son más dificiles de observar haremos validaciones extras de modo que se revisaran casos especiales según la naturaleza de las siguientes variables"
   ]
  },
  {
   "attachments": {},
   "cell_type": "markdown",
   "metadata": {},
   "source": [
    "**c_age**\n",
    "\n",
    "**Hallazgos:**\n",
    "\n",
    "Según **ChatGPT** la persona más longeva de la historia vivió 122 años, de modo que todas las edad registradas mayores a esta edad la catalogaremos como fuera de su naturaleza."
   ]
  },
  {
   "cell_type": "code",
   "execution_count": null,
   "metadata": {},
   "outputs": [],
   "source": [
    "#Obtenemos descriptivos de la variable\n",
    "df[\"c_age\"].describe()"
   ]
  },
  {
   "cell_type": "code",
   "execution_count": null,
   "metadata": {},
   "outputs": [],
   "source": [
    "#Obtenemos las observaciones fuera de la naturaleza\n",
    "df[df[\"c_age\"] > 122]"
   ]
  },
  {
   "cell_type": "code",
   "execution_count": null,
   "metadata": {},
   "outputs": [],
   "source": [
    "#Revisamos el porcentaje que representa la población de más de 122 años que ha solicitado un crédito.\n",
    "(df[df[\"c_age\"] > 122].shape[0]/df.shape[0]) * 100"
   ]
  },
  {
   "attachments": {},
   "cell_type": "markdown",
   "metadata": {},
   "source": [
    "**c_months_in_residence**\n",
    "\n",
    "**Hallazgos:**\n",
    "\n",
    "1. Dado que la edad máxima para vivir actulamente es de 122 años como se mencionó anteriormente, consideramos el mismo tiempo para los meses vividos en una residencia, es decir, 1464 meses. En este caso, no resultaron haber registros con estas caracteríscas, por lo que no los consideraremos ningun elemento fuera de la naturaleza de la variable, aunque los valores atípicos serán revisados más adelante. \n",
    "\n",
    "2. Los meses en la vivienda convertidos en años deberían ser estrictamente menores o iguales a los años de vida, pues no puedes vivir más años en una residencia que de los años que tienes cumplidos. Validamos estos casos realizando una resta entre la variable **c_months_in_residence** y la variable **c_age** y confirmando los casos que resultan negativos. De este modo, aunque a continuación se muestran algunos casos, no consideramos en este momento a ningun valor como fuera de su naturaleza debido que no sabemos cual de las dos variables es la errónea, es posible que en la sección de outliers puedan eliminarse."
   ]
  },
  {
   "cell_type": "code",
   "execution_count": null,
   "metadata": {},
   "outputs": [],
   "source": [
    "#Obtenemos descriptivos de la variable\n",
    "df[\"c_months_in_residence\"].describe()"
   ]
  },
  {
   "cell_type": "code",
   "execution_count": null,
   "metadata": {},
   "outputs": [],
   "source": [
    "#Obtenemos las observaciones fuera de la naturaleza y vemos que no hay casos, pero si hay valores atípicos, mismos que serán eliminados en la sección de outliers.\n",
    "df[df[\"c_months_in_residence\"] > 1464]"
   ]
  },
  {
   "cell_type": "code",
   "execution_count": null,
   "metadata": {},
   "outputs": [],
   "source": [
    "#Obtenemos el porcentaje de datos invalidos debido a la lógica de años con vida y años en vivienda\n",
    "(df[(df[\"c_months_in_residence\"]).map(lambda x:x>1464)].shape[0]/df.shape[0]) * 100"
   ]
  },
  {
   "cell_type": "code",
   "execution_count": null,
   "metadata": {},
   "outputs": [],
   "source": [
    "#Obtenemos los registros que podrían serinvalidos debido a la lógica de resta entre años con vida y años de vivienda\n",
    "df[(df[\"c_age\"] - df[\"c_months_in_residence\"]/12).map(lambda x:x<0)]"
   ]
  },
  {
   "cell_type": "code",
   "execution_count": null,
   "metadata": {},
   "outputs": [],
   "source": [
    "#Obtenemos el porcentaje de datos invalidos debido a la lógica de resta entre años con vida y años de vivienda\n",
    "(df[(df[\"c_age\"] - df[\"c_months_in_residence\"]/12).map(lambda x:x<0)].shape[0]/df.shape[0]) * 100"
   ]
  },
  {
   "attachments": {},
   "cell_type": "markdown",
   "metadata": {},
   "source": [
    "**c_months_in_the_job**\n",
    "\n",
    "**Hallazgos:**\n",
    "\n",
    "1. La Ley Federal del Trabajo en México señala que solo las personas con 15 años o más pueden ofrecer libremente sus servicios profesionales, aunque la situación económica en México resulta dificil para ajustarse a estos marcos, pues la pobreza y desigualdad orilla a miles de mexicanos a trabajar desde que son niños. De este modo, aunque a continuación se muestran algunos casos que podemos identificar con la resta de la variable **c_months_in_the_job** y la variable **c_age**, no consideramos ningun elemento fuera de la naturaleza de la variable, pues no conocemos si hay error en alguna de las dos variables y, pero es posible que en después de revisar la sección de outliers puedan etiquetarse como NaN.\n",
    "\n",
    "2. Los meses en el trabajo convertidos en años no podrían ser menores a los años de vida, pues no puedes estar en un trabajo más años que de los años que tienes cumplidos. Validamos estos casos realizando una resta entre la variable **c_months_in_the_job** y la variable **c_age** y confirmando los casos que resultan negativos. Debido a que no sabemos cuál es la variable erronea no se harán modificaciones y si estos casos persisten en la sección de outliers los eliminaremos. \n",
    "\n",
    "3. Identificamos si hay personas que tengan más de 122 años en su trabajo."
   ]
  },
  {
   "cell_type": "code",
   "execution_count": null,
   "metadata": {},
   "outputs": [],
   "source": [
    "#Obtenemos descriptivos de la variable\n",
    "df[\"c_months_in_the_job\"].describe()"
   ]
  },
  {
   "cell_type": "code",
   "execution_count": null,
   "metadata": {},
   "outputs": [],
   "source": [
    "#Observamos los casos de personas que tenian trabajo por debajo de la edad permitida en la ley\n",
    "df[(df[\"c_age\"] - df[\"c_months_in_the_job\"]/12).map(lambda x:x<15)].head(100)"
   ]
  },
  {
   "cell_type": "code",
   "execution_count": null,
   "metadata": {},
   "outputs": [],
   "source": [
    "#Obtenemos el porcentaje de datos que podrían ser invalidos según la edad con la que se puede trabajar en México\n",
    "(df[(df[\"c_age\"] - df[\"c_months_in_the_job\"]/12).map(lambda x:x<15)].shape[0]/df.shape[0]) * 100"
   ]
  },
  {
   "cell_type": "code",
   "execution_count": null,
   "metadata": {},
   "outputs": [],
   "source": [
    "#Obtenemos los registros que podrían serinvalidos debido a la lógica de resta entre años con vida y en un trabajo\n",
    "df[(df[\"c_age\"] - df[\"c_months_in_the_job\"]/12).map(lambda x:x<0)].head(100)"
   ]
  },
  {
   "cell_type": "code",
   "execution_count": null,
   "metadata": {},
   "outputs": [],
   "source": [
    "#Obtenemos el porcentaje de registros que podrían serinvalidos debido a la lógica de resta entre años con vida y en un trabajo\n",
    "(df[(df[\"c_age\"] - df[\"c_months_in_the_job\"]/12).map(lambda x:x<0)].shape[0]/df.shape[0]) * 100"
   ]
  },
  {
   "cell_type": "code",
   "execution_count": null,
   "metadata": {},
   "outputs": [],
   "source": [
    "#Obtenemos si hay registos donde lleven más de 122 años en el trabajo actual\n",
    "df[(df[\"c_months_in_the_job\"]/12).map(lambda x:x>1464)].head(100)"
   ]
  },
  {
   "attachments": {},
   "cell_type": "markdown",
   "metadata": {},
   "source": [
    "**Variables a reemplazar con valores NaN**\n",
    "\n",
    "Al revisar las variables continuas se pueden observar las siguientes variables con inconsistencias y sus respectivas causas:\n",
    "\n",
    "1. **c_age**: Esta variable contiene valores con registros de edad fuera del umbral registrado, de modo que los transformamos a NaN.\n",
    "2. **c_personal_net_income**: Esta variable contiene valores NaN, pero parecen no estar bien definidos, de modo que los variable con el formato incorrecta serán transformadas a NaN."
   ]
  },
  {
   "attachments": {},
   "cell_type": "markdown",
   "metadata": {},
   "source": [
    "**Observaciones**\n",
    "\n",
    "- En la variable **c_months_in_residence** hay registros que no coinciden con la condición de que al ser modificados a años, estos sean menores a los años con vida.\n",
    "- En la variable **c_months_in_the_job** hay registros que no coinciden con la condición de que al ser modificados a años, estos sean menores a los años con vida y que cumplan con lo establecido por la ley, que es trabajar a partir de los 15 años."
   ]
  },
  {
   "attachments": {},
   "cell_type": "markdown",
   "metadata": {},
   "source": [
    "#### Transformación a valores NaN\n",
    "\n",
    "Convertimos las variales con valores nulos incorrectos a valores NaN.\n",
    "\n",
    "**Nota**: Las variables que tienen valores fuera de su naturaleza esperamos eliminarlas más adelante en la sección de outliers."
   ]
  },
  {
   "cell_type": "code",
   "execution_count": null,
   "metadata": {},
   "outputs": [],
   "source": [
    "#v_sex\n",
    "df['v_sex'] = df['v_sex'].where(df['v_sex'] != 'n.a', np.nan)\n",
    "display(df['v_sex'].value_counts())\n",
    "\n",
    "#v_residence_type\n",
    "df['v_residence_type'] = df['v_residence_type'].where(df['v_residence_type'] != ' ', np.nan)\n",
    "display(df['v_residence_type'].value_counts())\n",
    "\n",
    "#c_personal_net_income\n",
    "df['c_personal_net_income'] = df['c_personal_net_income'].where(df['c_personal_net_income'] != 'n.a.', np.nan)\n",
    "display(df['c_personal_net_income'].value_counts())\n",
    "\n",
    "#c_age\n",
    "df['c_age'] = df['c_age'].where(df['c_age'] < 123, np.nan)\n",
    "display(df['c_age'].describe())"
   ]
  },
  {
   "attachments": {},
   "cell_type": "markdown",
   "metadata": {},
   "source": [
    "### Completitud\n",
    "\n",
    "Revisamos de nuevo la completitud"
   ]
  },
  {
   "cell_type": "code",
   "execution_count": null,
   "metadata": {},
   "outputs": [],
   "source": [
    "#No tenemos variables con una complitud menor al 80%\n",
    "completitud(df)"
   ]
  },
  {
   "attachments": {},
   "cell_type": "markdown",
   "metadata": {},
   "source": [
    "### Limpieza y transformación de variables"
   ]
  },
  {
   "attachments": {},
   "cell_type": "markdown",
   "metadata": {},
   "source": [
    "##### Revisón"
   ]
  },
  {
   "attachments": {},
   "cell_type": "markdown",
   "metadata": {},
   "source": [
    "**Categóricas**\n",
    "\n",
    "Basado en lo observado en la salida debajo de esta, procederemos a limpiar las variables:\n",
    "\n",
    "1. **v_marital_status**\n",
    "2. **v_flag_residencial_phone**\n",
    "3. **v_residence_type**\n",
    "\n",
    "Asimismo, limpiaremos las variables unitarias e identificaremos los tipos de datos correctos del resto de variables categóricas."
   ]
  },
  {
   "cell_type": "code",
   "execution_count": null,
   "metadata": {},
   "outputs": [],
   "source": [
    "#Revisamos las variables categoricas con la siguiente iteración donde se filtran los valores de las variable de forma única y en un formato de cadena\n",
    "for i in df.filter(like=\"v_\"):\n",
    "  print(i)\n",
    "  values = df[i].astype(str).unique()\n",
    "  values.sort()\n",
    "  display(values)\n",
    "  print(\"\\n\")"
   ]
  },
  {
   "attachments": {},
   "cell_type": "markdown",
   "metadata": {},
   "source": [
    "**Continuas**\n",
    "\n",
    "Basado en la salida debajo de esta podemos decir que no hay ninguna que tengamos que limpiar, salvo las ya mencionadas con anteriorirdad (c_age, c_months_in_residence, c_months_in_the_job) , así como identificar los tipos."
   ]
  },
  {
   "cell_type": "code",
   "execution_count": null,
   "metadata": {},
   "outputs": [],
   "source": [
    "#Revisamos las variables continuas con la siguiente iteración donde se filtran los valores de las variable de forma única y en un formato de cadena\n",
    "for i in df.filter(like=\"c_\"):\n",
    "  print(i)\n",
    "  values = df[i].astype(str).unique()\n",
    "  values.sort()\n",
    "  display(values)\n",
    "  print(\"\\n\")"
   ]
  },
  {
   "attachments": {},
   "cell_type": "markdown",
   "metadata": {},
   "source": [
    "#### Limpieza"
   ]
  },
  {
   "attachments": {},
   "cell_type": "markdown",
   "metadata": {},
   "source": [
    "**v_marital_status**"
   ]
  },
  {
   "cell_type": "code",
   "execution_count": null,
   "metadata": {},
   "outputs": [],
   "source": [
    "#Limpiamos la variable v_marital_status, misma que había sido identificada con anterioridad\n",
    "df['v_marital_status'].value_counts(1)"
   ]
  },
  {
   "cell_type": "code",
   "execution_count": null,
   "metadata": {},
   "outputs": [],
   "source": [
    "#Aplicamos la limpieza\n",
    "df[\"v_marital_status\"]=df[\"v_marital_status\"].map(clean_text)\n",
    "df['v_marital_status'].value_counts(1)"
   ]
  },
  {
   "attachments": {},
   "cell_type": "markdown",
   "metadata": {},
   "source": [
    "**v_flag_residencial_phone**"
   ]
  },
  {
   "cell_type": "code",
   "execution_count": null,
   "metadata": {},
   "outputs": [],
   "source": [
    "#Limpiamos la variable v_marital_status, misma que había sido identificada con anterioridad\n",
    "df['v_flag_residencial_phone'].value_counts(1)"
   ]
  },
  {
   "cell_type": "code",
   "execution_count": null,
   "metadata": {},
   "outputs": [],
   "source": [
    "#Aplicamos la limpieza\n",
    "df[\"v_flag_residencial_phone\"]=df[\"v_flag_residencial_phone\"].map(clean_text)\n",
    "df['v_flag_residencial_phone'].value_counts(1)"
   ]
  },
  {
   "attachments": {},
   "cell_type": "markdown",
   "metadata": {},
   "source": [
    "**v_residence_type**"
   ]
  },
  {
   "cell_type": "code",
   "execution_count": null,
   "metadata": {},
   "outputs": [],
   "source": [
    "#Limpiamos la variable v_marital_status, misma que había sido identificada con anterioridad\n",
    "df['v_residence_type'].value_counts(1)"
   ]
  },
  {
   "cell_type": "code",
   "execution_count": null,
   "metadata": {},
   "outputs": [],
   "source": [
    "#Aplicamos la limpieza\n",
    "df[\"v_residence_type\"]=df[\"v_residence_type\"].map(clean_text)\n",
    "df['v_residence_type'].value_counts(1)"
   ]
  },
  {
   "attachments": {},
   "cell_type": "markdown",
   "metadata": {},
   "source": [
    "**Limpieza homegenizada de todas las variables categóricas**"
   ]
  },
  {
   "cell_type": "code",
   "execution_count": null,
   "metadata": {},
   "outputs": [],
   "source": [
    "for i in df.filter(like=\"v_\"):\n",
    "    df[i]=df[i].map(clean_text)"
   ]
  },
  {
   "attachments": {},
   "cell_type": "markdown",
   "metadata": {},
   "source": [
    "**Revisión de la target**"
   ]
  },
  {
   "cell_type": "code",
   "execution_count": null,
   "metadata": {},
   "outputs": [],
   "source": [
    "df[\"tgt\"].value_counts()"
   ]
  },
  {
   "attachments": {},
   "cell_type": "markdown",
   "metadata": {},
   "source": [
    "#### Unitarias"
   ]
  },
  {
   "attachments": {},
   "cell_type": "markdown",
   "metadata": {},
   "source": [
    "**Categóricas**\n",
    "\n",
    "**Eliminación de variables unitarias**\n",
    "\n",
    "Se muestran las variables que resultaron ser unitarias y su razón de si deberían eliminarse o no.\n",
    "\n",
    "- **v_flag_mothers_name**: Debe eliminarse ya que al parecer solo indica si el solicitante dio o no el número de su madre, además de que no se encuentra ni el diccionario de datos.\n",
    "\n",
    "- **v_flag_fathers_name**: Debe eliminarse por la misma razón de la variable anterior.\n",
    "\n",
    "- **v_flag_residence_state=working_state**: Debe eliminarse, no hay informe de esta variable y es unitaria casi del 100%.\n",
    "\n",
    "- **v_flag_residencial_address=postal_address**: Debe eliminarse, no hay informe de esta variable y es unitaria casi del 100%.\n",
    "\n",
    "- **v_flag_other_card**:  Debe eliminarse, es unitaria del 100%.\n",
    "\n",
    "- **v_flag_mobile_phone**: Debe eliminarse, es unitaria del 100%.\n",
    "\n",
    "- **v_flag_contact_phone**: Debe eliminarse, es unitaria del 100%.\n",
    "\n",
    "- **v_flag_card_insurance_option**: Debe eliminarse, es unitaria del 100%."
   ]
  },
  {
   "cell_type": "code",
   "execution_count": null,
   "metadata": {
    "ExecuteTime": {
     "end_time": "2022-04-29T22:06:42.519091Z",
     "start_time": "2022-04-29T22:06:42.516261Z"
    },
    "scrolled": true
   },
   "outputs": [],
   "source": [
    "#Visualizamos el nombre de las variables unitarias\n",
    "for col in df.filter(like=\"v_\").columns:\n",
    "    unitarias(df,col)"
   ]
  },
  {
   "cell_type": "code",
   "execution_count": null,
   "metadata": {},
   "outputs": [],
   "source": [
    "#Visualizamos la distribución de las variables categoricas\n",
    "for col in df.filter(like=\"v_\").columns:\n",
    "    display(categoricas(df,col))\n",
    "    print(\"\\n\")"
   ]
  },
  {
   "attachments": {},
   "cell_type": "markdown",
   "metadata": {},
   "source": [
    "**Continuas**\n",
    "\n",
    "**Eliminación de variables continuas**\n",
    "\n",
    "Se muestran las variables que resultaron ser unitarias y su razón de si deberían eliminarse o no.\n",
    "\n",
    "- **c_quant_dependants**: Debe eliminarse, es unitaria del 100%.\n",
    "\n",
    "- **c_shop_rank**: Debe eliminarse, no hay informe de esta variable y es unitaria casi del 100%.\n",
    "\n",
    "- **c_mate_income**: Debe eliminarse, es unitaria casi del 100% y no aporta valor el ingreso de compañero a asignarle un créditp a otra persona.\n",
    "\n",
    "- **c_quant_banking_accounts**: Debe eliminarse, es unitaria del 100%.\n",
    "\n",
    "- **c_cod_application_booth**:  Debe eliminarse, es unitaria del 100%."
   ]
  },
  {
   "cell_type": "code",
   "execution_count": null,
   "metadata": {
    "ExecuteTime": {
     "end_time": "2022-04-29T22:06:42.519091Z",
     "start_time": "2022-04-29T22:06:42.516261Z"
    },
    "scrolled": true
   },
   "outputs": [],
   "source": [
    "#Visualizamos el nombre de las variables unitarias\n",
    "for col in df.filter(like=\"c_\").columns:\n",
    "    unitarias(df,col)"
   ]
  },
  {
   "cell_type": "code",
   "execution_count": null,
   "metadata": {},
   "outputs": [],
   "source": [
    "#Visualizamos la distribución de las variables categoricas\n",
    "for col in df.filter(like=\"c_\").columns:\n",
    "    display(categoricas(df,col))\n",
    "    print(\"\\n\")"
   ]
  },
  {
   "cell_type": "code",
   "execution_count": null,
   "metadata": {},
   "outputs": [],
   "source": [
    "#Procedemos a eliminar las variables unitarias\n",
    "df.drop(columns =[\"v_flag_mothers_name\",\n",
    "                \"v_flag_fathers_name\",\n",
    "                \"v_flag_residence_state=working_state\",\n",
    "                \"v_flag_residencial_address=postal_address\",\n",
    "                \"v_flag_other_card\",\"v_flag_mobile_phone\",\n",
    "                \"v_flag_contact_phone\",\n",
    "                \"v_flag_card_insurance_option\",\n",
    "                \"c_quant_dependants\",\n",
    "                \"c_shop_rank\",\n",
    "                \"c_mate_income\",\n",
    "                \"c_quant_banking_accounts\",\n",
    "                \"c_cod_application_booth\"], inplace=True)"
   ]
  },
  {
   "cell_type": "code",
   "execution_count": null,
   "metadata": {},
   "outputs": [],
   "source": [
    "#Visualizamos nuestra tabla\n",
    "df.head()"
   ]
  },
  {
   "cell_type": "markdown",
   "metadata": {},
   "source": [
    "#### Tipos de datos"
   ]
  },
  {
   "cell_type": "code",
   "execution_count": null,
   "metadata": {},
   "outputs": [],
   "source": [
    "#Obtenemos información del dataset, especialmente nos importa el delas columnas\n",
    "df.info()"
   ]
  },
  {
   "attachments": {},
   "cell_type": "markdown",
   "metadata": {},
   "source": [
    "**Modificamos continuas** "
   ]
  },
  {
   "cell_type": "code",
   "execution_count": null,
   "metadata": {},
   "outputs": [],
   "source": [
    "completitud(df)"
   ]
  },
  {
   "cell_type": "code",
   "execution_count": null,
   "metadata": {},
   "outputs": [],
   "source": [
    "df[\"c_personal_net_income\"] = df[\"c_personal_net_income\"].astype(float)"
   ]
  },
  {
   "cell_type": "code",
   "execution_count": null,
   "metadata": {},
   "outputs": [],
   "source": [
    "#Visualizamos nuevamente la información del dataset\n",
    "df.info()"
   ]
  },
  {
   "attachments": {},
   "cell_type": "markdown",
   "metadata": {},
   "source": [
    "**Observaciones**\n",
    "\n",
    "A pesar de que la edad es un valor entero, la dejamos como tipo float para manter la identificación de los valores NaN. \n"
   ]
  },
  {
   "attachments": {},
   "cell_type": "markdown",
   "metadata": {},
   "source": [
    "#### Cruce"
   ]
  },
  {
   "cell_type": "code",
   "execution_count": null,
   "metadata": {},
   "outputs": [],
   "source": [
    "#Dtaframe principal\n",
    "df.head()"
   ]
  },
  {
   "cell_type": "code",
   "execution_count": null,
   "metadata": {},
   "outputs": [],
   "source": [
    "#Dataframe secundario\n",
    "df1.head()"
   ]
  },
  {
   "cell_type": "code",
   "execution_count": null,
   "metadata": {},
   "outputs": [],
   "source": [
    "#Cambiamos el tipo de datos de la variable v_profession\n",
    "df1.info()"
   ]
  },
  {
   "cell_type": "code",
   "execution_count": null,
   "metadata": {},
   "outputs": [],
   "source": [
    "df1[\"v_profession\"] = df1[\"v_profession\"].astype(\"string\")"
   ]
  },
  {
   "cell_type": "code",
   "execution_count": null,
   "metadata": {},
   "outputs": [],
   "source": [
    "#Realizamos un left join\n",
    "df = df.merge(df1, on = 'c_profession_code', how = 'left')"
   ]
  },
  {
   "cell_type": "code",
   "execution_count": null,
   "metadata": {},
   "outputs": [],
   "source": [
    "#Visualizamos los datos\n",
    "df.head()"
   ]
  },
  {
   "attachments": {},
   "cell_type": "markdown",
   "metadata": {},
   "source": [
    "## Análisis Exploratorio de datos"
   ]
  },
  {
   "attachments": {},
   "cell_type": "markdown",
   "metadata": {},
   "source": [
    "### Categóricas"
   ]
  },
  {
   "attachments": {},
   "cell_type": "markdown",
   "metadata": {},
   "source": [
    "**Comentarios**\n",
    "\n",
    "**Variables:**\n",
    "\n",
    "**v_sex**: La variable muestra que las solicitudes de crédito de este dataset se centran en las **mujeres** con un **69.6%**, mientras que los **hombres** solo el **30.4%**, sin considerar los nulos.\n",
    "\n",
    "**v_marital_status**: La variable muestra la distribución del estado civil, la mayoría se concentra en las personas **solteras**, es decir, con **50.8%** de la información.\n",
    "\n",
    "**v_flag_residencial_phone**: La variable muestra la quien de los solicitantes tiene un télefono en casa."
   ]
  },
  {
   "cell_type": "code",
   "execution_count": null,
   "metadata": {},
   "outputs": [],
   "source": [
    "#Obtenemos descriptivos que nos ayudan al entendimiento del dataset\n",
    "df.describe(include='O')"
   ]
  },
  {
   "cell_type": "code",
   "execution_count": null,
   "metadata": {},
   "outputs": [],
   "source": [
    "#Obtenemos la visualización de las variables categóricas en gráficas de pastel\n",
    "for col in df.filter(like=\"v_\"):\n",
    "    pie(df,col,col).show()"
   ]
  },
  {
   "attachments": {},
   "cell_type": "markdown",
   "metadata": {},
   "source": [
    "### Continuas"
   ]
  },
  {
   "attachments": {},
   "cell_type": "markdown",
   "metadata": {},
   "source": [
    "**Comentarios**\n",
    "\n",
    "Los gráficos de caja nos ayudan a ver como están distribuidas las variables númericas, aqui podemos ver como la veriable **c_age** que representa la edad, tiene outliers que se salen de la caja y de las bandas promedio, tal como mencionamos arriba. De igual forma para las variables **c_months_in_residence**, **c_months_in_the_job** y **c_personal_net_income**, podemos observar los outliers que podrán removerse más adelante.  "
   ]
  },
  {
   "cell_type": "code",
   "execution_count": null,
   "id": "a8a89b14",
   "metadata": {},
   "outputs": [],
   "source": [
    "#Obtenemos estadísticos para el entendimeinto de las variable continuas\n",
    "df.describe().T"
   ]
  },
  {
   "cell_type": "code",
   "execution_count": null,
   "metadata": {},
   "outputs": [],
   "source": [
    "#Obtenemos gráficos de caja para observar la distribución y los outliers de las variables\n",
    "for col in df.filter(like=\"c_\"):\n",
    "    box(df,col,col).show()"
   ]
  },
  {
   "cell_type": "code",
   "execution_count": null,
   "metadata": {},
   "outputs": [],
   "source": [
    "for col in df.filter(like=\"c_\"):\n",
    "    histogram(df,col,12,col).show()"
   ]
  },
  {
   "attachments": {},
   "cell_type": "markdown",
   "metadata": {},
   "source": [
    "## Datos anómalos"
   ]
  },
  {
   "attachments": {},
   "cell_type": "markdown",
   "metadata": {},
   "source": [
    "**Histograma antes de la eliminación de Outliers**\n",
    "\n",
    "Los histogramas que se muestran a continuación parecen demostrar que las variables no se comportan como una normal."
   ]
  },
  {
   "cell_type": "code",
   "execution_count": null,
   "metadata": {},
   "outputs": [],
   "source": [
    "for col in df.filter(like=\"c_\"):\n",
    "    histogram(df,col,12,col).show()"
   ]
  },
  {
   "attachments": {},
   "cell_type": "markdown",
   "metadata": {},
   "source": [
    "**Validación de método a usar**\n",
    "\n",
    "Para verificar cuál es el método mas adecuado para detectar los outliers necesitamos evaluar la normalidad de nuestras variables continuas y con base en ello, aplicar el mejor método. Esto se debe a que los métodos de Z-Score e IQR, no se adaptan a las series que no sse comportan de manera normal.\n",
    "\n",
    "Variables no consideradas aplicar para detectar los valores atípicos:\n",
    "\n",
    "- c_area_code_residencial_phone\n",
    "- c_payment_day\n",
    "- c_profession_code\n",
    "- c_quant_additional_cards_in_the_application\n",
    "\n",
    "\n",
    "\n",
    "La prueba que usaremos es la más recomendada en clase: **D'Agostino**"
   ]
  },
  {
   "cell_type": "code",
   "execution_count": null,
   "metadata": {
    "colab": {
     "base_uri": "https://localhost:8080/"
    },
    "id": "DGMm4HkqeiS2",
    "outputId": "4ca95c51-243c-44f2-92c4-e9409df30441"
   },
   "outputs": [],
   "source": [
    "#Aplicamos la prueba de normalidad D'Agostino\n",
    "for col in df[[\"c_age\", \"c_months_in_residence\", \"c_months_in_the_job\", \"c_personal_net_income\"]].columns:\n",
    "    print(col)\n",
    "    stat ,  p  =  normaltest(list(df[col].dropna().values)) \n",
    "    alpha = 0.05\n",
    "    if p > alpha:\n",
    "        print('La muestra parece una Normal (No se rechaza H0)')\n",
    "    else:\n",
    "        print('La muestra no parece una Normal (Se rechaza H0)')"
   ]
  },
  {
   "attachments": {},
   "cell_type": "markdown",
   "metadata": {},
   "source": [
    "**Método**\n",
    "\n",
    "Debido a la naturaleza de nuestras variables, las cuales no siguen un distribución normal, utilizaremos el método univariado de percentiles."
   ]
  },
  {
   "cell_type": "code",
   "execution_count": null,
   "metadata": {
    "colab": {
     "base_uri": "https://localhost:8080/",
     "height": 842
    },
    "id": "pvquDX-Udfqu",
    "outputId": "9fe4df6d-f99d-403a-88ba-8aaf50b9fa4d"
   },
   "outputs": [],
   "source": [
    "#Aplicamos la función de OUTLIERS la cual muestra un resuen de los diversos métodos, debido a las pruebas realizadas anteriormente, solo mostraremos atención en la prueba de los percentiles\n",
    "outliers = OUTLIERS(df,list(df[[\"c_age\", \"c_months_in_residence\", \"c_months_in_the_job\", \"c_personal_net_income\"]]))\n",
    "outliers"
   ]
  },
  {
   "cell_type": "code",
   "execution_count": null,
   "metadata": {
    "colab": {
     "base_uri": "https://localhost:8080/"
    },
    "id": "4qrq4nxcqyYP",
    "outputId": "af4fe671-2da8-46b0-d676-80971b9c3af8"
   },
   "outputs": [],
   "source": [
    "#Guardamos en una lista los indices identificados como atípicos\n",
    "indices = list(outliers[\"indices\"].values)"
   ]
  },
  {
   "cell_type": "code",
   "execution_count": null,
   "metadata": {
    "id": "I0iIk18Dq0JU"
   },
   "outputs": [],
   "source": [
    "#Guardamos los indicies que nos interesan\n",
    "indices = list(set(reduce(lambda x,y: x+y, indices)))"
   ]
  },
  {
   "cell_type": "code",
   "execution_count": null,
   "metadata": {
    "id": "PQjXWstesOjl"
   },
   "outputs": [],
   "source": [
    "#Obtenemos el porcentaje de elementos que eliminaremos\n",
    "(len(indices)/df.shape[0])*100"
   ]
  },
  {
   "cell_type": "code",
   "execution_count": null,
   "metadata": {
    "colab": {
     "base_uri": "https://localhost:8080/",
     "height": 800
    },
    "id": "12HCZxUGuRxq",
    "outputId": "58c11128-60b7-4e44-c465-a865dd2263f6"
   },
   "outputs": [],
   "source": [
    "#Mostramos los valores a imputar\n",
    "df[df.index.isin(indices)]"
   ]
  },
  {
   "cell_type": "code",
   "execution_count": null,
   "metadata": {
    "colab": {
     "base_uri": "https://localhost:8080/"
    },
    "id": "pfxLtFNhuUpM",
    "outputId": "0fd2987e-7cb5-49bd-bff8-941dd709f910"
   },
   "outputs": [],
   "source": [
    "#Obtenemos el tamaño del actual dataframe\n",
    "df.shape"
   ]
  },
  {
   "cell_type": "code",
   "execution_count": null,
   "metadata": {
    "colab": {
     "base_uri": "https://localhost:8080/"
    },
    "id": "XV_5QNLkuLUE",
    "outputId": "30b94e1c-9182-4366-ccdc-7be5999e0f22"
   },
   "outputs": [],
   "source": [
    "df2 = df[~df.index.isin(indices)].reset_index(drop=True)\n",
    "df2.shape"
   ]
  },
  {
   "attachments": {},
   "cell_type": "markdown",
   "metadata": {},
   "source": [
    "**Histograma despues de la eliminación de Outliers**\n",
    "\n",
    "A pesar de haber eliminado los outliers, los histogramas no parecen comportarse como una normal, pero el máximo de edad es de 75 años, casi igual que los requisitos de créditos personales como los de HSBC, BBVA Y Banco Azteca."
   ]
  },
  {
   "cell_type": "code",
   "execution_count": null,
   "metadata": {
    "colab": {
     "base_uri": "https://localhost:8080/",
     "height": 1000
    },
    "id": "Wt6bwBCduWvS",
    "outputId": "f22b51fa-0e28-42b1-b67d-8a2da30304fe"
   },
   "outputs": [],
   "source": [
    "#Obtenemos los histogramas y gráficos de cajas y podemos ver que hay pocos valores atípicos para las variables, incluso el máximo para la edad es de 75\n",
    "for col in df[[\"c_age\", \"c_months_in_residence\", \"c_months_in_the_job\", \"c_personal_net_income\"]]:\n",
    "    print(col)\n",
    "    histogram(df2,col,15,col).show()\n",
    "    box(df2,col,col).show()\n",
    "    "
   ]
  },
  {
   "attachments": {},
   "cell_type": "markdown",
   "metadata": {},
   "source": [
    "## Datos faltantes"
   ]
  },
  {
   "cell_type": "code",
   "execution_count": null,
   "metadata": {},
   "outputs": [],
   "source": [
    "#Revisamos nuevamente los datos faltante\n",
    "completitud(df2)"
   ]
  },
  {
   "attachments": {},
   "cell_type": "markdown",
   "metadata": {},
   "source": [
    "### Revisión previa\n",
    "\n",
    "Debido a las observaciones realizadas en la sección de valores fuera de naturaleza, revisamos de nuevo los valores no validos."
   ]
  },
  {
   "attachments": {},
   "cell_type": "markdown",
   "metadata": {},
   "source": [
    "**c_age**\n",
    "\n",
    "**Nuevas hallazgos:**\n",
    "\n",
    "La variable ha sido modificada correctamente en outliers y ya no hay valores que colocar como NaN."
   ]
  },
  {
   "cell_type": "code",
   "execution_count": null,
   "metadata": {},
   "outputs": [],
   "source": [
    "#Obtenemos descriptivos de la variable\n",
    "df2[\"c_age\"].describe()"
   ]
  },
  {
   "cell_type": "code",
   "execution_count": null,
   "metadata": {},
   "outputs": [],
   "source": [
    "#Obtenemos las observaciones fuera de la naturaleza\n",
    "df2[df2[\"c_age\"] > 122]"
   ]
  },
  {
   "cell_type": "code",
   "execution_count": null,
   "metadata": {},
   "outputs": [],
   "source": [
    "#Revisamos el porcentaje que representa la población de más de 122 años que ha solicitado un crédito.\n",
    "(df2[df2[\"c_age\"] > 122].shape[0]/df.shape[0]) * 100"
   ]
  },
  {
   "attachments": {},
   "cell_type": "markdown",
   "metadata": {},
   "source": [
    "**c_months_in_residence**\n",
    "\n",
    "**Nuevos hallazgos:**\n",
    "\n",
    "La variable **c_months_in_residence**, en conjunto con la variable **c_age**, aún muestra inconsistencias, esto aún después de haber pasado por le filtro de outliers, por lo tanto etiquetaremos ambas variables las etiquitaremos como NaN."
   ]
  },
  {
   "cell_type": "code",
   "execution_count": null,
   "metadata": {},
   "outputs": [],
   "source": [
    "#Obtenemos descriptivos de la variable\n",
    "df2[\"c_months_in_residence\"].describe()"
   ]
  },
  {
   "cell_type": "code",
   "execution_count": null,
   "metadata": {},
   "outputs": [],
   "source": [
    "#Obtenemos los registros que persisten este error y los cuáles serán modificados como NaN\n",
    "df2[(df2[\"c_age\"] - df2[\"c_months_in_residence\"]/12).map(lambda x:x<0)].head()"
   ]
  },
  {
   "attachments": {},
   "cell_type": "markdown",
   "metadata": {},
   "source": [
    "**c_months_in_the_job**\n",
    "\n",
    "**Nuevos hallazgos:**\n",
    "\n",
    "Aún hay registros de la variable **c_months_in_the_job** que en conjunto con la variable **c_age** nos muestran que hay personas que trabajaban antes de los 15 años dentro del dataset, debido a la situción social y económica del país, reducire esa cifra a personas que trabajaban antes de los 10 años y se colocarán valores NaN.\n",
    "\n",
    "Después de haber realizado el ejercicio de outliers pudimos notar que ya no hay inconsistencias entre las variables **c_months_in_the_job** y **c_age**,  pues ya no hay registros de personas con un trabajo con más años de los años que tinen cumplidos en el dataset, de modo que ya no hay nada que convertir en NaN para este caso. "
   ]
  },
  {
   "cell_type": "code",
   "execution_count": null,
   "metadata": {},
   "outputs": [],
   "source": [
    "#Obtenemos descriptivos de la variable\n",
    "df2[\"c_months_in_the_job\"].describe()"
   ]
  },
  {
   "cell_type": "code",
   "execution_count": null,
   "metadata": {},
   "outputs": [],
   "source": [
    "#Observamos los casos de personas que tenian trabajo por debajo de la edad fijada como umbral\n",
    "df2[(df2[\"c_age\"] - df2[\"c_months_in_the_job\"]/12).map(lambda x:x<10)].head()"
   ]
  },
  {
   "cell_type": "code",
   "execution_count": null,
   "metadata": {},
   "outputs": [],
   "source": [
    "#Obtenemos el porcentaje de datos que podrían ser invalidos según la edad con la que se puede trabajar en México\n",
    "(df2[(df2[\"c_age\"] - df2[\"c_months_in_the_job\"]/12).map(lambda x:x<10)].shape[0]/df2.shape[0]) * 100"
   ]
  },
  {
   "cell_type": "code",
   "execution_count": null,
   "metadata": {},
   "outputs": [],
   "source": [
    "#Obtenemos los registros que podrían ser invalidos debido a la lógica de resta entre años con vida y en un trabajo y vemos que ya no hay registros.\n",
    "df2[(df2[\"c_age\"] - df2[\"c_months_in_the_job\"]/12).map(lambda x:x<0)].head(100)"
   ]
  },
  {
   "attachments": {},
   "cell_type": "markdown",
   "metadata": {},
   "source": [
    "### Transformación a valores NaN"
   ]
  },
  {
   "cell_type": "code",
   "execution_count": null,
   "metadata": {},
   "outputs": [],
   "source": [
    "#Modificamos las siguientes variables con valores NaN debido a que no cumplieron los supuestos mencionados con anteriordiad\n",
    "df2[\"c_age2\"] = df2[\"c_age\"]\n",
    "df2[\"c_months_in_residence2\"] = df2[\"c_months_in_residence\"]\n",
    "df2[\"c_months_in_the_job2\"] = df2[\"c_months_in_the_job\"]\n",
    "df2['c_age']=df2['c_age2'].where(~(df2[\"c_age2\"] - df2[\"c_months_in_residence2\"]/12).map(lambda x:x<0),np.nan)\n",
    "df2['c_months_in_residence']=df2['c_months_in_residence2'].where(~(df2[\"c_age2\"] - df2[\"c_months_in_residence2\"]/12).map(lambda x:x<0),np.nan)\n",
    "df2['c_age']=df2['c_age2'].where(~(df2[\"c_age2\"] - df2[\"c_months_in_the_job2\"]/12).map(lambda x:x<10),np.nan)\n",
    "df2['c_months_in_the_job']=df2['c_months_in_the_job2'].where(~(df2[\"c_age2\"] - df2[\"c_months_in_the_job2\"]/12).map(lambda x:x<10),np.nan)\n",
    "\n",
    "#Eliminamos las columnas de apoyo creadas\n",
    "df2 = df2.drop(columns=[\"c_months_in_the_job2\", \"c_months_in_residence2\", \"c_age2\"])"
   ]
  },
  {
   "cell_type": "code",
   "execution_count": null,
   "metadata": {},
   "outputs": [],
   "source": [
    "#Validacion de la diferencia negativa entre edad y años en la residencia\n",
    "df2[(df2[\"c_age\"] - df2[\"c_months_in_residence\"]/12).map(lambda x:x<0)].head()"
   ]
  },
  {
   "cell_type": "code",
   "execution_count": null,
   "metadata": {},
   "outputs": [],
   "source": [
    "df2[(df2[\"c_age\"] - df2[\"c_months_in_the_job\"]/12).map(lambda x:x<10)]"
   ]
  },
  {
   "attachments": {},
   "cell_type": "markdown",
   "metadata": {},
   "source": [
    "### Revisión e imputación"
   ]
  },
  {
   "cell_type": "code",
   "execution_count": null,
   "metadata": {},
   "outputs": [],
   "source": [
    "#Revisamos nuestras variables con missings\n",
    "completitud(df2)"
   ]
  },
  {
   "attachments": {},
   "cell_type": "markdown",
   "metadata": {},
   "source": [
    "**Comentarios**\n",
    "\n",
    "Imputaremos los valores para cada una de las variables considerando un conjunto de entrenamiento y prueba estratificado, donde el conjunto de prueba tenga el 30% de la información."
   ]
  },
  {
   "cell_type": "code",
   "execution_count": null,
   "metadata": {
    "ExecuteTime": {
     "end_time": "2022-05-19T00:38:34.008270Z",
     "start_time": "2022-05-19T00:38:34.000042Z"
    },
    "id": "1PhFVUuzOUwN"
   },
   "outputs": [],
   "source": [
    "#Guardamos en un dataframe el resumen de completitud y en una lista las variables cuyo valor de missings es menor al 100% para sí identificar las columnas a imputar\n",
    "missings = completitud(df2)\n",
    "missings_columns = list(missings[missings[\"completitud\"] < 100][\"columna\"].values)"
   ]
  },
  {
   "cell_type": "code",
   "execution_count": null,
   "metadata": {
    "colab": {
     "base_uri": "https://localhost:8080/"
    },
    "id": "gPfs0iUxBxhG",
    "outputId": "ae5f5cce-944d-41cc-cb30-f6b2e0c2d807"
   },
   "outputs": [],
   "source": [
    "#Mostramis las columnas con missings\n",
    "missings_columns"
   ]
  },
  {
   "attachments": {},
   "cell_type": "markdown",
   "metadata": {
    "id": "2hUhJPmfh8Np"
   },
   "source": [
    "**Conjunto de entrenamiento y prueba**\n",
    "\n",
    "Definimos el conjunto de entrenamiento con el 70% y el de prueba con el 30%."
   ]
  },
  {
   "cell_type": "code",
   "execution_count": null,
   "metadata": {
    "id": "VY65s2vlEqaQ"
   },
   "outputs": [],
   "source": [
    "#Definimos los conjuntos\n",
    "X_train, X_test = train_test_split(df2, test_size = 0.30, random_state = 413)"
   ]
  },
  {
   "cell_type": "code",
   "execution_count": null,
   "metadata": {},
   "outputs": [],
   "source": [
    "X_train[\"v_residence_type\"].value_counts(1)"
   ]
  },
  {
   "cell_type": "code",
   "execution_count": null,
   "metadata": {},
   "outputs": [],
   "source": [
    "X_test[\"v_residence_type\"].value_counts(1)"
   ]
  },
  {
   "attachments": {},
   "cell_type": "markdown",
   "metadata": {
    "id": "2ihM0rjkC7q1"
   },
   "source": [
    "#### Categóricas\n",
    "\n",
    "Procedemos con la imputación de las variables categóricas basado en la prueba Chi Cuadrada\n",
    "\n",
    "Para las variables categóricas se utiliza la prueba chi cuadrada para saber si las proporciones de las categorias de la columna antes y después de imputar valores missings se mantienen igual\n",
    "\n",
    "- k: Número de clases o categorías\n",
    "- xi: Frecuencias observadas \n",
    "- mi: Frecuencias teóricas\n",
    "\n",
    "- Ho: La proporcion por categoria es igual en la tabla imputada que en la tabla sin missings\n",
    "- H1: La proporcion por categoria es distinta en la tabla imputada que en la tabla sin missings"
   ]
  },
  {
   "cell_type": "code",
   "execution_count": null,
   "metadata": {
    "id": "ID1HgWKYC997"
   },
   "outputs": [],
   "source": [
    "#Asignamos en una lista las columnas categóricas con missings\n",
    "v_ = list(filter(lambda x: \"v_\" in x, missings_columns)) \n",
    "v_ = [x for x in v_ if x]"
   ]
  },
  {
   "cell_type": "code",
   "execution_count": null,
   "metadata": {
    "colab": {
     "base_uri": "https://localhost:8080/"
    },
    "id": "9agTnqBwDV0K",
    "outputId": "7cfc5e4e-4828-420e-ea1f-1b979d75f301"
   },
   "outputs": [],
   "source": [
    "for col in v_:\n",
    "    print(col)\n",
    "    display(df2[col].value_counts(1))"
   ]
  },
  {
   "cell_type": "code",
   "execution_count": null,
   "metadata": {
    "colab": {
     "base_uri": "https://localhost:8080/",
     "height": 237
    },
    "id": "mwU9OFCRE0TT",
    "outputId": "b24e1e2c-d69d-4f26-982d-d798bbd7d7fd"
   },
   "outputs": [],
   "source": [
    "#Revisamos la completitud de nuestras variables en el conjunto de entrenamiento\n",
    "missings = completitud(X_train)\n",
    "missings[missings[\"completitud\"]<100]"
   ]
  },
  {
   "attachments": {},
   "cell_type": "markdown",
   "metadata": {},
   "source": [
    "**v_residence_type**"
   ]
  },
  {
   "cell_type": "code",
   "execution_count": null,
   "metadata": {},
   "outputs": [],
   "source": [
    "X_train[\"v_residence_type\"].value_counts()"
   ]
  },
  {
   "cell_type": "code",
   "execution_count": null,
   "metadata": {
    "colab": {
     "base_uri": "https://localhost:8080/",
     "height": 35
    },
    "id": "IBNDS9v4GNLC",
    "outputId": "9d3d2877-bb21-4238-cada-bbbf527c55df"
   },
   "outputs": [],
   "source": [
    "#Obtenemos la moda la variable en cuestión dentro del train\n",
    "residence_type = X_train[\"v_residence_type\"].mode()[0]\n",
    "residence_type"
   ]
  },
  {
   "cell_type": "code",
   "execution_count": null,
   "metadata": {
    "colab": {
     "base_uri": "https://localhost:8080/"
    },
    "id": "aOAdD6obGzl1",
    "outputId": "b68cb923-0873-47ec-a6a0-76f15c8ad961"
   },
   "outputs": [],
   "source": [
    "#Obtenemos la frecuencia observada sustiyendo los valores NaN por la moda de la variable a imputar\n",
    "x_i = X_train[\"v_residence_type\"].fillna(residence_type).value_counts() \n",
    "x_i"
   ]
  },
  {
   "cell_type": "code",
   "execution_count": null,
   "metadata": {
    "colab": {
     "base_uri": "https://localhost:8080/"
    },
    "id": "P0E_70_9Icjw",
    "outputId": "ea903098-2299-416e-daf8-addd1c141cf4"
   },
   "outputs": [],
   "source": [
    "#La prueba rechaza HO, de modo que los estadísticos cambian, es decir, si hay un cambio en las proporciones\n",
    "chi_square(X_train,\"v_residence_type\", residence_type)"
   ]
  },
  {
   "cell_type": "code",
   "execution_count": null,
   "metadata": {
    "id": "vlTPwuYGL8zB"
   },
   "outputs": [],
   "source": [
    "X_train[\"v_residence_type\"]=X_train[\"v_residence_type\"].fillna(residence_type) \n",
    "X_test[\"v_residence_type\"]=X_test[\"v_residence_type\"].fillna(residence_type) "
   ]
  },
  {
   "attachments": {},
   "cell_type": "markdown",
   "metadata": {
    "id": "o3Qvz9vOLOhe"
   },
   "source": [
    "**v_sex**"
   ]
  },
  {
   "cell_type": "code",
   "execution_count": null,
   "metadata": {},
   "outputs": [],
   "source": [
    "X_train[\"v_sex\"].value_counts()"
   ]
  },
  {
   "cell_type": "code",
   "execution_count": null,
   "metadata": {
    "colab": {
     "base_uri": "https://localhost:8080/",
     "height": 35
    },
    "id": "IBNDS9v4GNLC",
    "outputId": "9d3d2877-bb21-4238-cada-bbbf527c55df"
   },
   "outputs": [],
   "source": [
    "#Obtenemos la moda la variable en cuestión dentro del train\n",
    "sex = X_train[\"v_sex\"].mode()[0]\n",
    "sex"
   ]
  },
  {
   "cell_type": "code",
   "execution_count": null,
   "metadata": {
    "colab": {
     "base_uri": "https://localhost:8080/"
    },
    "id": "aOAdD6obGzl1",
    "outputId": "b68cb923-0873-47ec-a6a0-76f15c8ad961"
   },
   "outputs": [],
   "source": [
    "#Obtenemos la frecuencia observada sustiyendo los valores NaN por la moda de la variable a imputar\n",
    "x_i = X_train[\"v_sex\"].fillna(sex).value_counts() \n",
    "x_i"
   ]
  },
  {
   "cell_type": "code",
   "execution_count": null,
   "metadata": {
    "colab": {
     "base_uri": "https://localhost:8080/"
    },
    "id": "P0E_70_9Icjw",
    "outputId": "ea903098-2299-416e-daf8-addd1c141cf4"
   },
   "outputs": [],
   "source": [
    "#La prueba acepta HO, de modo que se mantienen las proporciones y continuamos a reemplzar\n",
    "chi_square(X_train,\"v_sex\", sex)"
   ]
  },
  {
   "cell_type": "code",
   "execution_count": null,
   "metadata": {
    "id": "vlTPwuYGL8zB"
   },
   "outputs": [],
   "source": [
    "X_train[\"v_sex\"]=X_train[\"v_sex\"].fillna(sex) \n",
    "X_test[\"v_sex\"]=X_test[\"v_sex\"].fillna(sex) "
   ]
  },
  {
   "attachments": {},
   "cell_type": "markdown",
   "metadata": {},
   "source": [
    "**Completitud**"
   ]
  },
  {
   "cell_type": "code",
   "execution_count": null,
   "metadata": {
    "colab": {
     "base_uri": "https://localhost:8080/",
     "height": 802
    },
    "id": "qaaRSZ8ZND3Y",
    "outputId": "6dae2edb-cfc6-4f04-afe2-f6277f00e977"
   },
   "outputs": [],
   "source": [
    "#Revisamos la completitud y que se hayan imputado nuestras variables\n",
    "completitud(X_train) "
   ]
  },
  {
   "attachments": {},
   "cell_type": "markdown",
   "metadata": {},
   "source": [
    "#### Continuas\n",
    "\n",
    "Procedemos con la imputación de las variables categóricas basado en la prueba Kolmogorov\n",
    "\n",
    "La prueba de Kolmogorov nos sirve para comparar si 2 muestras son de la misma distribución.\n",
    "\n",
    "Al imputar valores missings de variables numéricas se busca no afectar la distribución original de los datos, por ello se debe de buscar el valor correcto que se sustituirá en lugar de los missings y que no nos modifique la distribución original.\n",
    "\n",
    "- H0 (hipótesis nula): dos muestras son de la misma distribución\n",
    "- H1 (hipótesis alternativa): dos muestras provienen de distribuciones diferentes\n",
    "- Si el estadístico KS es pequeño o el valor p es alto, entonces no podemos rechazar HO"
   ]
  },
  {
   "cell_type": "code",
   "execution_count": null,
   "metadata": {
    "colab": {
     "base_uri": "https://localhost:8080/"
    },
    "id": "cJkVUwsONaTK",
    "outputId": "e195075e-7cef-4a7f-d81e-3da5c4347351"
   },
   "outputs": [],
   "source": [
    "#Actualizamos la variable de missings y filtramos las que faltan por imputar\n",
    "missings = completitud(X_train)\n",
    "missings[missings[\"completitud\"]<100]"
   ]
  },
  {
   "attachments": {},
   "cell_type": "markdown",
   "metadata": {},
   "source": [
    "**c_age**\n",
    "\n",
    "El resultado que se presenta a continuación concluye en que la mejor variable para imputador los datos en **c_age** es la mediana, debdio a que el estadístico de prueba fue el menor y con un p-value mayor que el resto."
   ]
  },
  {
   "cell_type": "code",
   "execution_count": null,
   "metadata": {
    "id": "7RJaGdxOYmSd"
   },
   "outputs": [],
   "source": [
    "#Obtenemos la moda, media y mediana del conjunto train\n",
    "mean = X_train[\"c_age\"].mean() \n",
    "median = X_train[\"c_age\"].median() \n",
    "mode = X_train[\"c_age\"].mode()[0] "
   ]
  },
  {
   "cell_type": "code",
   "execution_count": null,
   "metadata": {
    "colab": {
     "base_uri": "https://localhost:8080/"
    },
    "id": "xL1iiXIYYy9r",
    "outputId": "24b9d640-831e-481e-f30e-e98d3ae559aa"
   },
   "outputs": [],
   "source": [
    "mean"
   ]
  },
  {
   "cell_type": "code",
   "execution_count": null,
   "metadata": {
    "colab": {
     "base_uri": "https://localhost:8080/"
    },
    "id": "rSIC99RDY0U7",
    "outputId": "f8c651d6-47d8-4b90-c89d-c1339d5dc484"
   },
   "outputs": [],
   "source": [
    "median"
   ]
  },
  {
   "cell_type": "code",
   "execution_count": null,
   "metadata": {
    "colab": {
     "base_uri": "https://localhost:8080/"
    },
    "id": "saz2KnoGY1SE",
    "outputId": "54a7a3ca-6966-45c3-c9c7-0864fe8ed491"
   },
   "outputs": [],
   "source": [
    "mode"
   ]
  },
  {
   "cell_type": "code",
   "execution_count": null,
   "metadata": {
    "colab": {
     "base_uri": "https://localhost:8080/"
    },
    "id": "hM2fHHB6Y32M",
    "outputId": "a728bcef-bd3d-49d6-d0cd-45a299f6993d"
   },
   "outputs": [],
   "source": [
    "originales=list(X_train[\"c_age\"].dropna().values)\n",
    "imputados=list(X_train[\"c_age\"].fillna(mean).values)\n",
    "stats.ks_2samp(originales,imputados)"
   ]
  },
  {
   "cell_type": "code",
   "execution_count": null,
   "metadata": {
    "colab": {
     "base_uri": "https://localhost:8080/"
    },
    "id": "m42GOrHwc6V8",
    "outputId": "d44a6cf8-85d8-4d7f-eb08-6bc6ed4cdf99"
   },
   "outputs": [],
   "source": [
    "originales=list(X_train[\"c_age\"].dropna().values)\n",
    "imputados=list(X_train[\"c_age\"].fillna(median).values) \n",
    "stats.ks_2samp(originales,imputados)"
   ]
  },
  {
   "cell_type": "code",
   "execution_count": null,
   "metadata": {
    "colab": {
     "base_uri": "https://localhost:8080/"
    },
    "id": "_Jc5bEzXcnyM",
    "outputId": "7604b1b1-80e8-456d-d47c-39718823d5ce"
   },
   "outputs": [],
   "source": [
    "#Se obtiene el valor crítico que se compara con la mediana\n",
    "#Podemos decir que ambas vienen la misma distribución\n",
    "ksone.ppf(1-.05/2, len(originales))"
   ]
  },
  {
   "cell_type": "code",
   "execution_count": null,
   "metadata": {
    "colab": {
     "base_uri": "https://localhost:8080/"
    },
    "id": "aTyYkB3acy1Z",
    "outputId": "79cb790b-84c8-4141-e618-8aa32a727f25"
   },
   "outputs": [],
   "source": [
    "originales=list(X_train[\"c_age\"].dropna().values)\n",
    "imputados=list(X_train[\"c_age\"].fillna(mode).values) \n",
    "stats.ks_2samp(originales,imputados)"
   ]
  },
  {
   "cell_type": "code",
   "execution_count": null,
   "metadata": {
    "id": "_1ZW6vGUdPkB"
   },
   "outputs": [],
   "source": [
    "#Como resultado de las pruebas imputamos por la mediana\n",
    "imp = SimpleImputer(missing_values = np.nan, strategy=\"median\") "
   ]
  },
  {
   "cell_type": "code",
   "execution_count": null,
   "metadata": {
    "colab": {
     "base_uri": "https://localhost:8080/"
    },
    "id": "PRP6wdwidpar",
    "outputId": "5a5790eb-a6a9-418e-f9b9-1531c32cec0b"
   },
   "outputs": [],
   "source": [
    "#Imputamos\n",
    "imp.fit(X_train[[\"c_age\"]])"
   ]
  },
  {
   "cell_type": "code",
   "execution_count": null,
   "metadata": {
    "id": "8VFv05chdtwn"
   },
   "outputs": [],
   "source": [
    "#Terminamos de imputar\n",
    "X_train[[\"c_age\"]]=imp.transform(X_train[[\"c_age\"]])\n",
    "X_test[[\"c_age\"]]=imp.transform(X_test[[\"c_age\"]])"
   ]
  },
  {
   "cell_type": "code",
   "execution_count": null,
   "metadata": {
    "colab": {
     "base_uri": "https://localhost:8080/",
     "height": 802
    },
    "id": "DnBCv72Zdzdh",
    "outputId": "6ae0724b-893d-4474-f716-18d07a612362"
   },
   "outputs": [],
   "source": [
    "missings = completitud(X_train)\n",
    "missings[missings[\"completitud\"]<100]"
   ]
  },
  {
   "attachments": {},
   "cell_type": "markdown",
   "metadata": {},
   "source": [
    "**c_months_in_residence**\n",
    "\n",
    "El resultado que se presenta a continuación concluye en que la mejor variable para imputador los datos en **c_months_in_residence** es la mediana, debdio a que el estadístico de prueba fue el menor y con un p-value mayor que el resto."
   ]
  },
  {
   "cell_type": "code",
   "execution_count": null,
   "metadata": {
    "id": "7RJaGdxOYmSd"
   },
   "outputs": [],
   "source": [
    "#Obtenemos la moda, media y mediana del conjunto train\n",
    "mean = X_train[\"c_months_in_residence\"].mean() \n",
    "median = X_train[\"c_months_in_residence\"].median() \n",
    "mode = X_train[\"c_months_in_residence\"].mode()[0] "
   ]
  },
  {
   "cell_type": "code",
   "execution_count": null,
   "metadata": {
    "colab": {
     "base_uri": "https://localhost:8080/"
    },
    "id": "xL1iiXIYYy9r",
    "outputId": "24b9d640-831e-481e-f30e-e98d3ae559aa"
   },
   "outputs": [],
   "source": [
    "mean"
   ]
  },
  {
   "cell_type": "code",
   "execution_count": null,
   "metadata": {
    "colab": {
     "base_uri": "https://localhost:8080/"
    },
    "id": "rSIC99RDY0U7",
    "outputId": "f8c651d6-47d8-4b90-c89d-c1339d5dc484"
   },
   "outputs": [],
   "source": [
    "median"
   ]
  },
  {
   "cell_type": "code",
   "execution_count": null,
   "metadata": {
    "colab": {
     "base_uri": "https://localhost:8080/"
    },
    "id": "saz2KnoGY1SE",
    "outputId": "54a7a3ca-6966-45c3-c9c7-0864fe8ed491"
   },
   "outputs": [],
   "source": [
    "mode"
   ]
  },
  {
   "cell_type": "code",
   "execution_count": null,
   "metadata": {
    "colab": {
     "base_uri": "https://localhost:8080/"
    },
    "id": "hM2fHHB6Y32M",
    "outputId": "a728bcef-bd3d-49d6-d0cd-45a299f6993d"
   },
   "outputs": [],
   "source": [
    "originales=list(X_train[\"c_months_in_residence\"].dropna().values)\n",
    "imputados=list(X_train[\"c_months_in_residence\"].fillna(mean).values)\n",
    "stats.ks_2samp(originales,imputados)"
   ]
  },
  {
   "cell_type": "code",
   "execution_count": null,
   "metadata": {
    "colab": {
     "base_uri": "https://localhost:8080/"
    },
    "id": "m42GOrHwc6V8",
    "outputId": "d44a6cf8-85d8-4d7f-eb08-6bc6ed4cdf99"
   },
   "outputs": [],
   "source": [
    "originales=list(X_train[\"c_months_in_residence\"].dropna().values)\n",
    "imputados=list(X_train[\"c_months_in_residence\"].fillna(median).values) \n",
    "stats.ks_2samp(originales,imputados)"
   ]
  },
  {
   "cell_type": "code",
   "execution_count": null,
   "metadata": {
    "colab": {
     "base_uri": "https://localhost:8080/"
    },
    "id": "aTyYkB3acy1Z",
    "outputId": "79cb790b-84c8-4141-e618-8aa32a727f25"
   },
   "outputs": [],
   "source": [
    "originales=list(X_train[\"c_months_in_residence\"].dropna().values)\n",
    "imputados=list(X_train[\"c_months_in_residence\"].fillna(mode).values) \n",
    "stats.ks_2samp(originales,imputados)"
   ]
  },
  {
   "cell_type": "code",
   "execution_count": null,
   "metadata": {
    "colab": {
     "base_uri": "https://localhost:8080/"
    },
    "id": "_Jc5bEzXcnyM",
    "outputId": "7604b1b1-80e8-456d-d47c-39718823d5ce"
   },
   "outputs": [],
   "source": [
    "#Se obtiene el valor crítico que se compara con la mediana\n",
    "#Podemos decir que ambas vienen la misma distribución\n",
    "ksone.ppf(1-.05/2, len(originales))"
   ]
  },
  {
   "cell_type": "code",
   "execution_count": null,
   "metadata": {
    "id": "_1ZW6vGUdPkB"
   },
   "outputs": [],
   "source": [
    "#Como resultado de las pruebas imputamos por la mediana\n",
    "imp = SimpleImputer(missing_values = np.nan, strategy=\"median\") "
   ]
  },
  {
   "cell_type": "code",
   "execution_count": null,
   "metadata": {
    "colab": {
     "base_uri": "https://localhost:8080/"
    },
    "id": "PRP6wdwidpar",
    "outputId": "5a5790eb-a6a9-418e-f9b9-1531c32cec0b"
   },
   "outputs": [],
   "source": [
    "#Imputamos\n",
    "imp.fit(X_train[[\"c_months_in_residence\"]])"
   ]
  },
  {
   "cell_type": "code",
   "execution_count": null,
   "metadata": {
    "id": "8VFv05chdtwn"
   },
   "outputs": [],
   "source": [
    "#Terminamos de imputar\n",
    "X_train[[\"c_months_in_residence\"]] = imp.transform(X_train[[\"c_months_in_residence\"]])\n",
    "X_test[[\"c_months_in_residence\"]] = imp.transform(X_test[[\"c_months_in_residence\"]])"
   ]
  },
  {
   "cell_type": "code",
   "execution_count": null,
   "metadata": {
    "colab": {
     "base_uri": "https://localhost:8080/",
     "height": 802
    },
    "id": "DnBCv72Zdzdh",
    "outputId": "6ae0724b-893d-4474-f716-18d07a612362"
   },
   "outputs": [],
   "source": [
    "missings = completitud(X_train)\n",
    "missings[missings[\"completitud\"]<100]"
   ]
  },
  {
   "attachments": {},
   "cell_type": "markdown",
   "metadata": {},
   "source": [
    "**c_personal_net_income**\n",
    "\n",
    "El resultado que se presenta a continuación concluye en que la mejor variable para imputador los datos en **c_personal_net_income** es la mediana, debdio a que el estadístico de prueba fue el menor y con un p-value mayor que el resto."
   ]
  },
  {
   "cell_type": "code",
   "execution_count": null,
   "metadata": {
    "id": "7RJaGdxOYmSd"
   },
   "outputs": [],
   "source": [
    "#Obtenemos la moda, media y mediana del conjunto train\n",
    "mean = X_train[\"c_personal_net_income\"].mean() \n",
    "median = X_train[\"c_personal_net_income\"].median() \n",
    "mode = X_train[\"c_personal_net_income\"].mode()[0] "
   ]
  },
  {
   "cell_type": "code",
   "execution_count": null,
   "metadata": {
    "colab": {
     "base_uri": "https://localhost:8080/"
    },
    "id": "xL1iiXIYYy9r",
    "outputId": "24b9d640-831e-481e-f30e-e98d3ae559aa"
   },
   "outputs": [],
   "source": [
    "mean"
   ]
  },
  {
   "cell_type": "code",
   "execution_count": null,
   "metadata": {
    "colab": {
     "base_uri": "https://localhost:8080/"
    },
    "id": "rSIC99RDY0U7",
    "outputId": "f8c651d6-47d8-4b90-c89d-c1339d5dc484"
   },
   "outputs": [],
   "source": [
    "median"
   ]
  },
  {
   "cell_type": "code",
   "execution_count": null,
   "metadata": {
    "colab": {
     "base_uri": "https://localhost:8080/"
    },
    "id": "saz2KnoGY1SE",
    "outputId": "54a7a3ca-6966-45c3-c9c7-0864fe8ed491"
   },
   "outputs": [],
   "source": [
    "mode"
   ]
  },
  {
   "cell_type": "code",
   "execution_count": null,
   "metadata": {
    "colab": {
     "base_uri": "https://localhost:8080/"
    },
    "id": "hM2fHHB6Y32M",
    "outputId": "a728bcef-bd3d-49d6-d0cd-45a299f6993d"
   },
   "outputs": [],
   "source": [
    "originales=list(X_train[\"c_personal_net_income\"].dropna().values)\n",
    "imputados=list(X_train[\"c_personal_net_income\"].fillna(mean).values)\n",
    "stats.ks_2samp(originales,imputados)"
   ]
  },
  {
   "cell_type": "code",
   "execution_count": null,
   "metadata": {
    "colab": {
     "base_uri": "https://localhost:8080/"
    },
    "id": "m42GOrHwc6V8",
    "outputId": "d44a6cf8-85d8-4d7f-eb08-6bc6ed4cdf99"
   },
   "outputs": [],
   "source": [
    "originales=list(X_train[\"c_personal_net_income\"].dropna().values)\n",
    "imputados=list(X_train[\"c_personal_net_income\"].fillna(median).values) \n",
    "stats.ks_2samp(originales,imputados)"
   ]
  },
  {
   "cell_type": "code",
   "execution_count": null,
   "metadata": {
    "colab": {
     "base_uri": "https://localhost:8080/"
    },
    "id": "aTyYkB3acy1Z",
    "outputId": "79cb790b-84c8-4141-e618-8aa32a727f25"
   },
   "outputs": [],
   "source": [
    "originales=list(X_train[\"c_personal_net_income\"].dropna().values)\n",
    "imputados=list(X_train[\"c_personal_net_income\"].fillna(mode).values) \n",
    "stats.ks_2samp(originales,imputados)"
   ]
  },
  {
   "cell_type": "code",
   "execution_count": null,
   "metadata": {
    "colab": {
     "base_uri": "https://localhost:8080/"
    },
    "id": "_Jc5bEzXcnyM",
    "outputId": "7604b1b1-80e8-456d-d47c-39718823d5ce"
   },
   "outputs": [],
   "source": [
    "#Se obtiene el valor crítico que se compara con la mediana\n",
    "#Podemos decir que ambas vienen la misma distribución\n",
    "ksone.ppf(1-.05/2, len(originales))"
   ]
  },
  {
   "cell_type": "code",
   "execution_count": null,
   "metadata": {
    "id": "_1ZW6vGUdPkB"
   },
   "outputs": [],
   "source": [
    "#Como resultado de las pruebas imputamos por la mediana\n",
    "imp = SimpleImputer(missing_values = np.nan, strategy=\"median\") "
   ]
  },
  {
   "cell_type": "code",
   "execution_count": null,
   "metadata": {
    "colab": {
     "base_uri": "https://localhost:8080/"
    },
    "id": "PRP6wdwidpar",
    "outputId": "5a5790eb-a6a9-418e-f9b9-1531c32cec0b"
   },
   "outputs": [],
   "source": [
    "#Imputamos\n",
    "imp.fit(X_train[[\"c_personal_net_income\"]])"
   ]
  },
  {
   "cell_type": "code",
   "execution_count": null,
   "metadata": {
    "id": "8VFv05chdtwn"
   },
   "outputs": [],
   "source": [
    "#Terminamos de imputar\n",
    "X_train[[\"c_personal_net_income\"]] = imp.transform(X_train[[\"c_personal_net_income\"]])\n",
    "X_test[[\"c_personal_net_income\"]] = imp.transform(X_test[[\"c_personal_net_income\"]])"
   ]
  },
  {
   "cell_type": "code",
   "execution_count": null,
   "metadata": {
    "colab": {
     "base_uri": "https://localhost:8080/",
     "height": 802
    },
    "id": "DnBCv72Zdzdh",
    "outputId": "6ae0724b-893d-4474-f716-18d07a612362"
   },
   "outputs": [],
   "source": [
    "missings = completitud(X_train)\n",
    "missings[missings[\"completitud\"]<100]"
   ]
  },
  {
   "attachments": {},
   "cell_type": "markdown",
   "metadata": {},
   "source": [
    "**c_months_in_the_job**\n",
    "\n",
    "El resultado que se presenta a continuación concluye en que la mejor variable para imputador los datos en **c_months_in_the_job** es la mediana y la moda, debdio a que el estadístico de prueba fue el menor y con un p-value mayor que el resto."
   ]
  },
  {
   "cell_type": "code",
   "execution_count": null,
   "metadata": {
    "id": "7RJaGdxOYmSd"
   },
   "outputs": [],
   "source": [
    "#Obtenemos la moda, media y mediana del conjunto train\n",
    "mean = X_train[\"c_months_in_the_job\"].mean() \n",
    "median = X_train[\"c_months_in_the_job\"].median() \n",
    "mode = X_train[\"c_months_in_the_job\"].mode()[0] "
   ]
  },
  {
   "cell_type": "code",
   "execution_count": null,
   "metadata": {
    "colab": {
     "base_uri": "https://localhost:8080/"
    },
    "id": "xL1iiXIYYy9r",
    "outputId": "24b9d640-831e-481e-f30e-e98d3ae559aa"
   },
   "outputs": [],
   "source": [
    "mean"
   ]
  },
  {
   "cell_type": "code",
   "execution_count": null,
   "metadata": {
    "colab": {
     "base_uri": "https://localhost:8080/"
    },
    "id": "rSIC99RDY0U7",
    "outputId": "f8c651d6-47d8-4b90-c89d-c1339d5dc484"
   },
   "outputs": [],
   "source": [
    "median"
   ]
  },
  {
   "cell_type": "code",
   "execution_count": null,
   "metadata": {
    "colab": {
     "base_uri": "https://localhost:8080/"
    },
    "id": "saz2KnoGY1SE",
    "outputId": "54a7a3ca-6966-45c3-c9c7-0864fe8ed491"
   },
   "outputs": [],
   "source": [
    "mode"
   ]
  },
  {
   "cell_type": "code",
   "execution_count": null,
   "metadata": {
    "colab": {
     "base_uri": "https://localhost:8080/"
    },
    "id": "hM2fHHB6Y32M",
    "outputId": "a728bcef-bd3d-49d6-d0cd-45a299f6993d"
   },
   "outputs": [],
   "source": [
    "originales=list(X_train[\"c_months_in_the_job\"].dropna().values)\n",
    "imputados=list(X_train[\"c_months_in_the_job\"].fillna(mean).values)\n",
    "stats.ks_2samp(originales,imputados)"
   ]
  },
  {
   "cell_type": "code",
   "execution_count": null,
   "metadata": {
    "colab": {
     "base_uri": "https://localhost:8080/"
    },
    "id": "m42GOrHwc6V8",
    "outputId": "d44a6cf8-85d8-4d7f-eb08-6bc6ed4cdf99"
   },
   "outputs": [],
   "source": [
    "originales=list(X_train[\"c_months_in_the_job\"].dropna().values)\n",
    "imputados=list(X_train[\"c_months_in_the_job\"].fillna(median).values) \n",
    "stats.ks_2samp(originales,imputados)"
   ]
  },
  {
   "cell_type": "code",
   "execution_count": null,
   "metadata": {
    "colab": {
     "base_uri": "https://localhost:8080/"
    },
    "id": "aTyYkB3acy1Z",
    "outputId": "79cb790b-84c8-4141-e618-8aa32a727f25"
   },
   "outputs": [],
   "source": [
    "originales=list(X_train[\"c_months_in_the_job\"].dropna().values)\n",
    "imputados=list(X_train[\"c_months_in_the_job\"].fillna(mode).values) \n",
    "stats.ks_2samp(originales,imputados)"
   ]
  },
  {
   "cell_type": "code",
   "execution_count": null,
   "metadata": {
    "colab": {
     "base_uri": "https://localhost:8080/"
    },
    "id": "_Jc5bEzXcnyM",
    "outputId": "7604b1b1-80e8-456d-d47c-39718823d5ce"
   },
   "outputs": [],
   "source": [
    "#Se obtiene el valor crítico que se compara con la mediana\n",
    "#Podemos decir que ambas vienen la misma distribución\n",
    "ksone.ppf(1-.05/2, len(originales))"
   ]
  },
  {
   "cell_type": "code",
   "execution_count": null,
   "metadata": {
    "id": "_1ZW6vGUdPkB"
   },
   "outputs": [],
   "source": [
    "#Como resultado de las pruebas imputamos por la mediana\n",
    "imp = SimpleImputer(missing_values = np.nan, strategy=\"median\") "
   ]
  },
  {
   "cell_type": "code",
   "execution_count": null,
   "metadata": {
    "colab": {
     "base_uri": "https://localhost:8080/"
    },
    "id": "PRP6wdwidpar",
    "outputId": "5a5790eb-a6a9-418e-f9b9-1531c32cec0b"
   },
   "outputs": [],
   "source": [
    "#Imputamos\n",
    "imp.fit(X_train[[\"c_months_in_the_job\"]])"
   ]
  },
  {
   "cell_type": "code",
   "execution_count": null,
   "metadata": {
    "id": "8VFv05chdtwn"
   },
   "outputs": [],
   "source": [
    "#Terminamos de imputar\n",
    "X_train[[\"c_months_in_the_job\"]] = imp.transform(X_train[[\"c_months_in_the_job\"]])\n",
    "X_test[[\"c_months_in_the_job\"]] = imp.transform(X_test[[\"c_months_in_the_job\"]])"
   ]
  },
  {
   "cell_type": "code",
   "execution_count": null,
   "metadata": {
    "colab": {
     "base_uri": "https://localhost:8080/",
     "height": 802
    },
    "id": "DnBCv72Zdzdh",
    "outputId": "6ae0724b-893d-4474-f716-18d07a612362"
   },
   "outputs": [],
   "source": [
    "missings = completitud(X_train)\n",
    "missings[missings[\"completitud\"]<100]"
   ]
  },
  {
   "attachments": {},
   "cell_type": "markdown",
   "metadata": {},
   "source": [
    "**Completitud**"
   ]
  },
  {
   "cell_type": "code",
   "execution_count": null,
   "metadata": {},
   "outputs": [],
   "source": [
    "completitud(X_train)"
   ]
  },
  {
   "cell_type": "code",
   "execution_count": null,
   "metadata": {},
   "outputs": [],
   "source": [
    "completitud(X_test)"
   ]
  },
  {
   "attachments": {},
   "cell_type": "markdown",
   "metadata": {},
   "source": [
    "**Arreglos**\n",
    "\n",
    "Modificamos los tipos de datos ahora que tenemos una completitud del 100% en todos los datos. Esto se hará para el train y el test."
   ]
  },
  {
   "cell_type": "code",
   "execution_count": null,
   "metadata": {},
   "outputs": [],
   "source": [
    "X_train.info()"
   ]
  },
  {
   "cell_type": "code",
   "execution_count": null,
   "metadata": {},
   "outputs": [],
   "source": [
    "#Enteros\n",
    "X_train[\"c_age\"] = X_train[\"c_age\"].astype(int)\n",
    "X_train[\"c_months_in_residence\"] = X_train[\"c_months_in_residence\"].astype(int)\n",
    "X_train[\"c_months_in_the_job\"] = X_train[\"c_months_in_the_job\"].astype(int)\n",
    "X_test[\"c_age\"] = X_test[\"c_age\"].astype(int)\n",
    "X_test[\"c_months_in_residence\"] = X_test[\"c_months_in_residence\"].astype(int)\n",
    "X_test[\"c_months_in_the_job\"] = X_test[\"c_months_in_the_job\"].astype(int)\n",
    "\n",
    "#Cadenas\n",
    "X_train[\"v_sex\"] = X_train[\"v_sex\"].astype(\"string\")\n",
    "X_train[\"v_marital_status\"] = X_train[\"v_marital_status\"].astype(\"string\")\n",
    "X_train[\"v_flag_residencial_phone\"] = X_train[\"v_flag_residencial_phone\"].astype(\"string\")\n",
    "X_train[\"v_residence_type\"] = X_train[\"v_residence_type\"].astype(\"string\")\n",
    "X_train[\"v_flag_residence_town=working_town\"] = X_train[\"v_flag_residence_town=working_town\"].astype(\"string\")\n",
    "X_train[\"v_profession\"] = X_train[\"v_profession\"].astype(\"string\")\n",
    "X_test[\"v_sex\"] = X_test[\"v_sex\"].astype(\"string\")\n",
    "X_test[\"v_marital_status\"] = X_test[\"v_marital_status\"].astype(\"string\")\n",
    "X_test[\"v_flag_residencial_phone\"] = X_test[\"v_flag_residencial_phone\"].astype(\"string\")\n",
    "X_test[\"v_residence_type\"] = X_test[\"v_residence_type\"].astype(\"string\")\n",
    "X_test[\"v_flag_residence_town=working_town\"] = X_test[\"v_flag_residence_town=working_town\"].astype(\"string\")\n",
    "X_test[\"v_profession\"] = X_test[\"v_profession\"].astype(\"string\")"
   ]
  },
  {
   "cell_type": "code",
   "execution_count": null,
   "metadata": {},
   "outputs": [],
   "source": [
    "X_train.info()"
   ]
  },
  {
   "cell_type": "code",
   "execution_count": null,
   "metadata": {},
   "outputs": [],
   "source": [
    "X_test.info()"
   ]
  },
  {
   "attachments": {},
   "cell_type": "markdown",
   "metadata": {},
   "source": [
    "## Ingenieria de variables"
   ]
  },
  {
   "attachments": {},
   "cell_type": "markdown",
   "metadata": {},
   "source": [
    "**Revisión**\n",
    "\n",
    "Revisamos el dataset de prueba y de test."
   ]
  },
  {
   "cell_type": "code",
   "execution_count": null,
   "metadata": {},
   "outputs": [],
   "source": [
    "X_train.head()"
   ]
  },
  {
   "cell_type": "code",
   "execution_count": null,
   "metadata": {},
   "outputs": [],
   "source": [
    "X_test.head()"
   ]
  },
  {
   "attachments": {},
   "cell_type": "markdown",
   "metadata": {},
   "source": [
    "### Categóricas"
   ]
  },
  {
   "cell_type": "code",
   "execution_count": null,
   "metadata": {},
   "outputs": [],
   "source": [
    "#Revisamos nuestras variables categóricas\n",
    "for i in X_test.filter(like=\"v_\"):\n",
    "  print(i)"
   ]
  },
  {
   "attachments": {},
   "cell_type": "markdown",
   "metadata": {},
   "source": [
    "#### One-Hot Encoding\n",
    "\n",
    "Decidí crear nuevas variables con One-Hot Encodig tomando como base las variables categoricas dicotomicas, es decir, para la variable **v_sex** y las variables **v_flag_residencial_phone**, **v_flag_residence_town**. Esto genera 1 o 0 depesndiendo de la categoría."
   ]
  },
  {
   "cell_type": "code",
   "execution_count": null,
   "metadata": {},
   "outputs": [],
   "source": [
    "#Eriquetamos a la variable de sexo como 1 si es femenino o 0 si es masculino\n",
    "X_train[\"v_sex_female\"] = X_train[\"v_sex\"].map(lambda x: 1 if x == \"f\" else 0)\n",
    "X_test[\"v_sex_female\"] = X_test[\"v_sex\"].map(lambda x: 1 if x == \"f\" else 0)\n",
    "\n",
    "#Eriquetamos a la variable que tiene como bandera si se tiene teléfono en la residencia, asigandole 1 si tiene y 0 si no tiene\n",
    "X_train[\"v_flag_residencial_phone_y\"] = X_train[\"v_sex\"].map(lambda x: 1 if x == \"y\" else 0)\n",
    "X_test[\"v_flag_residencial_phone_y\"] = X_test[\"v_sex\"].map(lambda x: 1 if x == \"y\" else 0)\n",
    "\n",
    "#Eriquetamos a la variable que tiene como bandera si trabaja en la ciudad, asigandole 1 si es así y 0 si no tiene\n",
    "X_train[\"v_flag_residence_town=working_town_y\"] = X_train[\"v_flag_residence_town=working_town\"].map(lambda x: 1 if x == \"y\" else 0)\n",
    "X_test[\"v_flag_residence_town=working_town_y\"] = X_test[\"v_flag_residence_town=working_town\"].map(lambda x: 1 if x == \"y\" else 0)"
   ]
  },
  {
   "attachments": {},
   "cell_type": "markdown",
   "metadata": {},
   "source": [
    "#### Count Encoding\n",
    "\n",
    "Con Count Encoding asignamos la frecuencia absoluta de las categórias a las que se le asigna esta ingeniería. En este caso revisamos para la situación civil y el tipo de residencia. "
   ]
  },
  {
   "cell_type": "code",
   "execution_count": null,
   "metadata": {
    "ExecuteTime": {
     "end_time": "2022-10-08T03:28:10.068215Z",
     "start_time": "2022-10-08T03:28:10.064927Z"
    },
    "hidden": true,
    "id": "uRg2XzvqONnp",
    "outputId": "e76a4d2d-5854-4393-ce88-8840dda6ccb6"
   },
   "outputs": [],
   "source": [
    "X_train[\"v_marital_status\"].value_counts()"
   ]
  },
  {
   "cell_type": "code",
   "execution_count": null,
   "metadata": {
    "ExecuteTime": {
     "end_time": "2022-10-08T03:28:10.270786Z",
     "start_time": "2022-10-08T03:28:10.267535Z"
    },
    "hidden": true,
    "id": "c30fTPkqONnq",
    "outputId": "b5e1fdf4-b935-428b-9b55-a2b2ac1efaf0"
   },
   "outputs": [],
   "source": [
    "X_test[\"v_marital_status\"].value_counts()"
   ]
  },
  {
   "cell_type": "code",
   "execution_count": null,
   "metadata": {
    "ExecuteTime": {
     "end_time": "2022-10-08T03:28:10.646807Z",
     "start_time": "2022-10-08T03:28:10.642916Z"
    },
    "hidden": true,
    "id": "yVsPgLoEONnu",
    "outputId": "66822358-0c6b-4671-ca42-c24c88172601"
   },
   "outputs": [],
   "source": [
    "X_train[\"v_residence_type\"].value_counts()"
   ]
  },
  {
   "cell_type": "code",
   "execution_count": null,
   "metadata": {
    "ExecuteTime": {
     "end_time": "2022-10-08T03:28:10.849504Z",
     "start_time": "2022-10-08T03:28:10.845762Z"
    },
    "hidden": true,
    "id": "ca3YzCjuONnv",
    "outputId": "d1515ea7-015a-441c-ef9f-0d90eee39c88"
   },
   "outputs": [],
   "source": [
    "X_test[\"v_residence_type\"].value_counts()"
   ]
  },
  {
   "cell_type": "code",
   "execution_count": null,
   "metadata": {
    "ExecuteTime": {
     "end_time": "2022-10-08T03:28:12.257477Z",
     "start_time": "2022-10-08T03:28:12.254913Z"
    },
    "hidden": true,
    "id": "uuSkSu1TONn2"
   },
   "outputs": [],
   "source": [
    "marital_count = X_train['v_marital_status'].value_counts()\n",
    "residence_count = X_train['v_residence_type'].value_counts()"
   ]
  },
  {
   "cell_type": "code",
   "execution_count": null,
   "metadata": {
    "ExecuteTime": {
     "end_time": "2022-10-08T03:28:12.850000Z",
     "start_time": "2022-10-08T03:28:12.847437Z"
    },
    "hidden": true,
    "id": "wx6525T3ONn5",
    "outputId": "46f268c8-65a9-4485-bcab-b83fc22cb70b"
   },
   "outputs": [],
   "source": [
    "marital_count.to_dict()"
   ]
  },
  {
   "cell_type": "code",
   "execution_count": null,
   "metadata": {
    "ExecuteTime": {
     "end_time": "2022-10-08T03:28:13.052069Z",
     "start_time": "2022-10-08T03:28:13.049582Z"
    },
    "hidden": true,
    "id": "Sw4pJAY2ONn6",
    "outputId": "510b6775-f07a-406c-ba83-582aaa92c4a7"
   },
   "outputs": [],
   "source": [
    "residence_count.to_dict()"
   ]
  },
  {
   "cell_type": "code",
   "execution_count": null,
   "metadata": {
    "ExecuteTime": {
     "end_time": "2022-10-08T03:28:13.668033Z",
     "start_time": "2022-10-08T03:28:13.664571Z"
    },
    "hidden": true,
    "id": "UK03EM-VONn-"
   },
   "outputs": [],
   "source": [
    "X_train['v_marital_status_count_enc'] = X_train['v_marital_status'].map(marital_count.to_dict())\n",
    "X_train['v_residence_type_count_enc'] = X_train['v_residence_type'].map(residence_count.to_dict())\n",
    "\n",
    "X_test['v_marital_status_count_enc'] = X_test['v_marital_status'].map(marital_count.to_dict())\n",
    "X_test['v_residence_type_count_enc'] = X_test['v_residence_type'].map(residence_count.to_dict())"
   ]
  },
  {
   "cell_type": "code",
   "execution_count": null,
   "metadata": {
    "ExecuteTime": {
     "end_time": "2022-10-08T03:28:14.113982Z",
     "start_time": "2022-10-08T03:28:14.105353Z"
    },
    "hidden": true,
    "id": "u4bmCp_HONoA",
    "outputId": "60b32dfd-a59c-446d-baa6-b50e821c9326"
   },
   "outputs": [],
   "source": [
    "X_train.head()"
   ]
  },
  {
   "cell_type": "code",
   "execution_count": null,
   "metadata": {},
   "outputs": [],
   "source": [
    "X_test.head()"
   ]
  },
  {
   "attachments": {},
   "cell_type": "markdown",
   "metadata": {},
   "source": [
    "#### Target encoding\n",
    "\n",
    "Con target encoding agruparemos por una variable y asiganremos el promedio de la misma basado en un variable categórica, en este caso, usaremos a la variable categórica **v_profession** agrupada por la media del ingreso neto. La lógica de estoes guardar el promedio del ingreso de las profesiones de las personas que solicitan un crédito."
   ]
  },
  {
   "cell_type": "code",
   "execution_count": null,
   "metadata": {
    "ExecuteTime": {
     "end_time": "2022-10-08T15:28:31.526215Z",
     "start_time": "2022-10-08T15:28:31.523476Z"
    },
    "hidden": true,
    "id": "Ek42f1JEONox",
    "outputId": "1fa8d3a7-9ab0-402d-ad52-40a38caa69e9"
   },
   "outputs": [],
   "source": [
    "X_train[\"v_profession\"].value_counts()"
   ]
  },
  {
   "cell_type": "code",
   "execution_count": null,
   "metadata": {
    "ExecuteTime": {
     "end_time": "2022-10-08T15:30:11.286234Z",
     "start_time": "2022-10-08T15:30:11.283074Z"
    },
    "hidden": true,
    "id": "2otsmgnHONo6"
   },
   "outputs": [],
   "source": [
    "v_profession_means = X_train.groupby('v_profession')['c_personal_net_income'].mean()"
   ]
  },
  {
   "cell_type": "code",
   "execution_count": null,
   "metadata": {
    "ExecuteTime": {
     "end_time": "2022-10-08T15:30:13.163412Z",
     "start_time": "2022-10-08T15:30:13.160032Z"
    },
    "hidden": true,
    "id": "0cLpoPA2ONo8"
   },
   "outputs": [],
   "source": [
    "X_train['v_profession_means_target_enc'] = X_train['v_profession'].map(v_profession_means)\n",
    "\n",
    "X_test['v_profession_means_target_enc'] = X_test['v_profession'].map(v_profession_means)"
   ]
  },
  {
   "cell_type": "code",
   "execution_count": null,
   "metadata": {
    "ExecuteTime": {
     "end_time": "2022-10-08T15:30:14.074215Z",
     "start_time": "2022-10-08T15:30:14.066674Z"
    },
    "hidden": true,
    "id": "OOFHzjgeONo9",
    "outputId": "74acc95a-0bd2-4dc2-ed52-875781a53691"
   },
   "outputs": [],
   "source": [
    "X_train.head()"
   ]
  },
  {
   "cell_type": "code",
   "execution_count": null,
   "metadata": {
    "ExecuteTime": {
     "end_time": "2022-10-08T15:30:14.982213Z",
     "start_time": "2022-10-08T15:30:14.974514Z"
    },
    "hidden": true,
    "id": "1F-t8eo6ONo-",
    "outputId": "5034fc47-1b5f-474a-8433-f64b573f3996"
   },
   "outputs": [],
   "source": [
    "X_test.head()"
   ]
  },
  {
   "attachments": {},
   "cell_type": "markdown",
   "metadata": {},
   "source": [
    "### Nuevas características\n",
    "\n",
    "Realizamos limpieza de la variable categórica **v_profession** creando una nueva variable, ademas agregamos diversas creaciónes de características de medidas de texto."
   ]
  },
  {
   "attachments": {},
   "cell_type": "markdown",
   "metadata": {},
   "source": [
    "**Limpieza**"
   ]
  },
  {
   "cell_type": "code",
   "execution_count": null,
   "metadata": {},
   "outputs": [],
   "source": [
    "#Limpiamos la varibale y quitamos stop words\n",
    "X_train[\"v_profession_clean\"] = X_train[\"v_profession\"].map(clean_text)\n",
    "X_test[\"v_profession_clean\"] = X_test[\"v_profession\"].map(clean_text)"
   ]
  },
  {
   "cell_type": "code",
   "execution_count": null,
   "metadata": {
    "ExecuteTime": {
     "end_time": "2022-10-08T16:24:56.003845Z",
     "start_time": "2022-10-08T16:24:55.846577Z"
    }
   },
   "outputs": [],
   "source": [
    "#Desacrgamos las stop words en inglés para quedarnos con las palabras importantes de la categoría\n",
    "nltk.download('stopwords')\n",
    "stop_words=nltk.corpus.stopwords.words(\"english\")"
   ]
  },
  {
   "cell_type": "code",
   "execution_count": null,
   "metadata": {
    "ExecuteTime": {
     "end_time": "2022-10-08T16:26:07.380583Z",
     "start_time": "2022-10-08T16:26:06.835242Z"
    }
   },
   "outputs": [],
   "source": [
    "X_train[\"v_profession_clean\"]=X_train[\"v_profession_clean\"].map(lambda text:\" \".join([x for x in text.split(\" \") if x not in stop_words]))\n",
    "X_test[\"v_profession_clean\"]=X_test[\"v_profession_clean\"].map(lambda text:\" \".join([x for x in text.split(\" \") if x not in stop_words]))"
   ]
  },
  {
   "cell_type": "code",
   "execution_count": null,
   "metadata": {
    "ExecuteTime": {
     "end_time": "2022-10-08T16:26:07.429290Z",
     "start_time": "2022-10-08T16:26:07.424141Z"
    },
    "collapsed": true
   },
   "outputs": [],
   "source": [
    "X_train.head()"
   ]
  },
  {
   "cell_type": "code",
   "execution_count": null,
   "metadata": {},
   "outputs": [],
   "source": [
    "X_test.head()"
   ]
  },
  {
   "attachments": {},
   "cell_type": "markdown",
   "metadata": {},
   "source": [
    "**Tokenización**"
   ]
  },
  {
   "cell_type": "code",
   "execution_count": null,
   "metadata": {},
   "outputs": [],
   "source": [
    "#Convertimpos en lista al texto de la variable categórica de profesión para crear nuevas caraterísticas y mejorar la información del modelo\n",
    "X_train[\"v_profession_clean\"]=X_train[\"v_profession_clean\"].map(lambda x:x.split())\n",
    "X_test[\"v_profession_clean\"]=X_test[\"v_profession_clean\"].map(lambda x:x.split())"
   ]
  },
  {
   "cell_type": "markdown",
   "metadata": {},
   "source": [
    "**Longitud**"
   ]
  },
  {
   "cell_type": "code",
   "execution_count": null,
   "metadata": {
    "ExecuteTime": {
     "end_time": "2022-10-08T16:44:11.149787Z",
     "start_time": "2022-10-08T16:44:11.123740Z"
    },
    "hidden": true
   },
   "outputs": [],
   "source": [
    "#Longitud del train\n",
    "#Palabras\n",
    "X_train['c_numero_palabras'] = X_train[\"v_profession_clean\"].apply(lambda x: len(x))\n",
    "#Letras\n",
    "X_train['c_numero_letras'] = X_train[\"v_profession_clean\"].map(lambda x: sum(len(word) for word in x))\n",
    "#Longitud\n",
    "X_train['c_long_pro_pala'] = X_train['c_numero_letras'] / X_train['c_numero_palabras']\n",
    "\n",
    "#Longitud del test\n",
    "#Palabras\n",
    "X_test['c_numero_palabras'] = X_test[\"v_profession_clean\"].apply(lambda x: len(x))\n",
    "#Letras\n",
    "X_test['c_numero_letras'] = X_test[\"v_profession_clean\"].map(lambda x: sum(len(word) for word in x))\n",
    "#Longitud\n",
    "X_test['c_long_pro_pala'] = X_test['c_numero_letras'] / X_test['c_numero_palabras']"
   ]
  },
  {
   "cell_type": "code",
   "execution_count": null,
   "metadata": {
    "ExecuteTime": {
     "end_time": "2022-10-08T16:44:22.783208Z",
     "start_time": "2022-10-08T16:44:22.770733Z"
    },
    "hidden": true,
    "scrolled": true
   },
   "outputs": [],
   "source": [
    "X_train.head()"
   ]
  },
  {
   "cell_type": "code",
   "execution_count": null,
   "metadata": {},
   "outputs": [],
   "source": [
    "X_test.head()"
   ]
  },
  {
   "attachments": {},
   "cell_type": "markdown",
   "metadata": {},
   "source": [
    "**Count Vectorized**"
   ]
  },
  {
   "cell_type": "code",
   "execution_count": null,
   "metadata": {
    "ExecuteTime": {
     "end_time": "2022-10-08T03:32:10.372621Z",
     "start_time": "2022-10-08T03:32:10.363717Z"
    }
   },
   "outputs": [],
   "source": [
    "#Realizamos el procedimiento de count vectorized selecionando \n",
    "vect = CountVectorizer(stop_words=\"english\",ngram_range=(1,5))\n",
    "vect.fit(X_train[\"v_profession\"])\n",
    "array_train = vect.transform(X_train[\"v_profession\"])\n",
    "array_test = vect.transform(X_test[\"v_profession\"])"
   ]
  },
  {
   "cell_type": "code",
   "execution_count": null,
   "metadata": {
    "ExecuteTime": {
     "end_time": "2022-10-08T03:32:10.583836Z",
     "start_time": "2022-10-08T03:32:10.580334Z"
    }
   },
   "outputs": [],
   "source": [
    "aux_train=pd.DataFrame(array_train.toarray(),columns=vect.get_feature_names_out())\n",
    "aux_test=pd.DataFrame(array_test.toarray(),columns=vect.get_feature_names_out())\n",
    "\n",
    "aux_train = aux_train.rename(columns={col: \"c_\" + col for col in aux_train.columns})\n",
    "aux_test = aux_test.rename(columns={col: \"c_\" + col for col in aux_test.columns})"
   ]
  },
  {
   "cell_type": "code",
   "execution_count": null,
   "metadata": {
    "ExecuteTime": {
     "end_time": "2022-10-08T03:32:10.813189Z",
     "start_time": "2022-10-08T03:32:10.805550Z"
    },
    "scrolled": true
   },
   "outputs": [],
   "source": [
    "aux_train"
   ]
  },
  {
   "cell_type": "code",
   "execution_count": null,
   "metadata": {},
   "outputs": [],
   "source": [
    "aux_test"
   ]
  },
  {
   "cell_type": "code",
   "execution_count": null,
   "metadata": {},
   "outputs": [],
   "source": [
    "#Añadimoms las caracteristicas creadas al train\n",
    "X_train=pd.concat([X_train.reset_index(drop=True),aux_train.reset_index(drop=True)],axis=1)\n",
    "\n",
    "#Añadimoms las caracteristicas creadas al test\n",
    "X_test=pd.concat([X_test.reset_index(drop=True),aux_test.reset_index(drop=True)],axis=1)"
   ]
  },
  {
   "cell_type": "code",
   "execution_count": null,
   "metadata": {},
   "outputs": [],
   "source": [
    "X_train.head()"
   ]
  },
  {
   "cell_type": "code",
   "execution_count": null,
   "metadata": {},
   "outputs": [],
   "source": [
    "X_test.head()"
   ]
  },
  {
   "cell_type": "code",
   "execution_count": null,
   "metadata": {},
   "outputs": [],
   "source": [
    "X_train.info()"
   ]
  },
  {
   "attachments": {},
   "cell_type": "markdown",
   "metadata": {},
   "source": [
    "### Continuas"
   ]
  },
  {
   "attachments": {},
   "cell_type": "markdown",
   "metadata": {},
   "source": [
    "Crearemos nuevas características polinomiales con las variables continuas, que se enlistan a continuación:\n",
    "\n",
    "- **c_age**\n",
    "- **c_months_in_residence**\n",
    "- **c_months_in_the_job**\n",
    "- **c_personal_net_income**\n",
    "\n",
    "Seleccionamos solo estas continuas debido a su naturaleza, no encontre sentido en agregar variables polinomiales a los id's como el de cliente o a los fierentes códigos del dataset.\n"
   ]
  },
  {
   "cell_type": "code",
   "execution_count": null,
   "metadata": {},
   "outputs": [],
   "source": [
    "variables = (df[['c_age', 'c_months_in_residence', 'c_months_in_the_job', 'c_personal_net_income']].columns)"
   ]
  },
  {
   "cell_type": "code",
   "execution_count": null,
   "metadata": {},
   "outputs": [],
   "source": [
    "variables"
   ]
  },
  {
   "cell_type": "code",
   "execution_count": null,
   "metadata": {
    "ExecuteTime": {
     "end_time": "2022-10-08T16:00:09.863739Z",
     "start_time": "2022-10-08T16:00:09.860638Z"
    },
    "id": "6pVQjVmgONqL"
   },
   "outputs": [],
   "source": [
    "poly = PolynomialFeatures(2)"
   ]
  },
  {
   "cell_type": "code",
   "execution_count": null,
   "metadata": {
    "ExecuteTime": {
     "end_time": "2022-10-08T16:00:10.845858Z",
     "start_time": "2022-10-08T16:00:10.844118Z"
    },
    "id": "4DxMSRUOONqM"
   },
   "outputs": [],
   "source": [
    "cont_car_train = X_train.copy()\n",
    "cont_car_test = X_test.copy()"
   ]
  },
  {
   "cell_type": "code",
   "execution_count": null,
   "metadata": {
    "ExecuteTime": {
     "end_time": "2022-10-08T16:00:11.776944Z",
     "start_time": "2022-10-08T16:00:11.764089Z"
    },
    "id": "YOSv1-zeONqN"
   },
   "outputs": [],
   "source": [
    "cont_car_train = poly.fit_transform(cont_car_train[variables])\n",
    "cont_car_test = poly.fit_transform(cont_car_test[variables])"
   ]
  },
  {
   "cell_type": "code",
   "execution_count": null,
   "metadata": {
    "ExecuteTime": {
     "end_time": "2022-10-08T16:00:12.398248Z",
     "start_time": "2022-10-08T16:00:12.389402Z"
    },
    "id": "lOQoL8IvONqO"
   },
   "outputs": [],
   "source": [
    "cont_car_train = pd.DataFrame(columns=poly.get_feature_names_out(), data = cont_car_train)\n",
    "cont_car_test = pd.DataFrame(columns=poly.get_feature_names_out(), data = cont_car_test)"
   ]
  },
  {
   "cell_type": "code",
   "execution_count": null,
   "metadata": {
    "ExecuteTime": {
     "end_time": "2022-10-08T16:00:16.639937Z",
     "start_time": "2022-10-08T16:00:16.343688Z"
    },
    "id": "sfShjZIPONqO",
    "outputId": "b352b643-be22-47ac-ad99-e81549a9debc",
    "scrolled": true
   },
   "outputs": [],
   "source": [
    "cont_car_train = cont_car_train.iloc[:,5:]\n",
    "cont_car_train.head()"
   ]
  },
  {
   "cell_type": "code",
   "execution_count": null,
   "metadata": {},
   "outputs": [],
   "source": [
    "cont_car_test = cont_car_test.iloc[:,5:]\n",
    "cont_car_test.head()"
   ]
  },
  {
   "cell_type": "code",
   "execution_count": null,
   "metadata": {},
   "outputs": [],
   "source": [
    "#Añadimoms las caracteristicas creadas al train\n",
    "X_train = pd.concat([X_train.reset_index(drop=True), cont_car_train.reset_index(drop=True)],axis=1)\n",
    "\n",
    "#Añadimoms las caracteristicas creadas al test\n",
    "X_test = pd.concat([X_test.reset_index(drop=True), cont_car_test.reset_index(drop=True)],axis=1)"
   ]
  },
  {
   "cell_type": "code",
   "execution_count": null,
   "metadata": {},
   "outputs": [],
   "source": [
    "X_train.head()"
   ]
  },
  {
   "cell_type": "code",
   "execution_count": null,
   "metadata": {},
   "outputs": [],
   "source": [
    "X_test.head()"
   ]
  },
  {
   "cell_type": "code",
   "execution_count": null,
   "metadata": {},
   "outputs": [],
   "source": [
    "X_train.info()"
   ]
  },
  {
   "attachments": {},
   "cell_type": "markdown",
   "metadata": {},
   "source": [
    "## Reducción de dimensiones"
   ]
  },
  {
   "attachments": {},
   "cell_type": "markdown",
   "metadata": {},
   "source": [
    "##### VARClus\n",
    "\n",
    "Con el algoritmo de VARClus aplicamos PCA, y realiza diversas selecciones a través del cálculo de los compnentes N PCA, para posteriormente asignar de manera iterativa la Clasificación de componentes (NCS). Después de NCS, el algoritmo intenta aumentar la varianza total explicada por la primera Componente PCA de cada clúster secundario mediante la reasignación de funciones entre clústeres."
   ]
  },
  {
   "attachments": {},
   "cell_type": "markdown",
   "metadata": {},
   "source": [
    "**X_train**"
   ]
  },
  {
   "cell_type": "code",
   "execution_count": null,
   "metadata": {},
   "outputs": [],
   "source": [
    "#Seleccionamos las características creadas\n",
    "variables_pca = X_train.iloc[:,27:]"
   ]
  },
  {
   "cell_type": "code",
   "execution_count": null,
   "id": "ca51321a",
   "metadata": {
    "ExecuteTime": {
     "end_time": "2021-08-21T04:42:11.647378Z",
     "start_time": "2021-08-21T04:42:11.633391Z"
    },
    "id": "ca51321a"
   },
   "outputs": [],
   "source": [
    "#Definimos a vc\n",
    "vc = VarClusHi(variables_pca,maxeigval2=.7)\n",
    "vc.varclus()"
   ]
  },
  {
   "cell_type": "code",
   "execution_count": null,
   "id": "b5427eee",
   "metadata": {
    "ExecuteTime": {
     "end_time": "2021-08-21T04:42:22.320948Z",
     "start_time": "2021-08-21T04:42:20.764950Z"
    },
    "id": "b5427eee",
    "outputId": "a932beed-d010-4aa1-a073-3dfe703abf70"
   },
   "outputs": [],
   "source": [
    "#Mostramos los estadísticos\n",
    "vc.rsquare"
   ]
  },
  {
   "cell_type": "code",
   "execution_count": null,
   "id": "9bc3ced5",
   "metadata": {
    "ExecuteTime": {
     "end_time": "2021-08-21T04:42:27.284699Z",
     "start_time": "2021-08-21T04:42:25.261970Z"
    },
    "id": "9bc3ced5",
    "outputId": "adb6969f-6e8a-407a-aa43-25ec43c5408b",
    "scrolled": true
   },
   "outputs": [],
   "source": [
    "#Mostramos las variables seleccionadas y sus estadísticos\n",
    "vc.rsquare.sort_values([\"Cluster\",\"RS_Ratio\"],ascending=True).drop_duplicates(subset=[\"Cluster\"],keep=\"first\")"
   ]
  },
  {
   "cell_type": "code",
   "execution_count": null,
   "id": "bae56364",
   "metadata": {
    "ExecuteTime": {
     "end_time": "2021-08-21T04:42:29.434369Z",
     "start_time": "2021-08-21T04:42:27.286699Z"
    },
    "id": "bae56364"
   },
   "outputs": [],
   "source": [
    "#Obtenemos las variables consideradas\n",
    "variables_consideradas =list(vc.rsquare.sort_values([\"Cluster\",\"RS_Ratio\"],ascending=True).drop_duplicates(subset=[\"Cluster\"],keep=\"first\")[\"Variable\"].values)\n",
    "variables_consideradas"
   ]
  },
  {
   "cell_type": "code",
   "execution_count": null,
   "metadata": {},
   "outputs": [],
   "source": [
    "#Obtenemos las variables eliminadas\n",
    "variables_no_consideradas = list(variables_pca.drop(variables_consideradas, axis=1))\n",
    "variables_no_consideradas"
   ]
  },
  {
   "cell_type": "code",
   "execution_count": null,
   "id": "dbcec86c",
   "metadata": {
    "ExecuteTime": {
     "end_time": "2021-08-21T04:42:29.450320Z",
     "start_time": "2021-08-21T04:42:29.435363Z"
    },
    "id": "dbcec86c",
    "outputId": "13765573-b362-46f3-c91d-f7f5159569e9"
   },
   "outputs": [],
   "source": [
    "print(\"variables_consideradas\")\n",
    "display(variables_consideradas)\n",
    "display(\"Total de variables_consideradas\", len(variables_consideradas))\n",
    "\n",
    "print(\"variables_no_consideradas\")\n",
    "display(variables_no_consideradas)\n",
    "display(\"Total de variables_consideradas\", len(variables_no_consideradas))"
   ]
  },
  {
   "attachments": {},
   "cell_type": "markdown",
   "metadata": {},
   "source": [
    "### Tabla final"
   ]
  },
  {
   "cell_type": "code",
   "execution_count": null,
   "metadata": {},
   "outputs": [],
   "source": [
    "#Pegamos las variables caracteísticas selccionadas\n",
    "X_train = pd.concat([X_train.reset_index(drop=True), variables_pca.drop(variables_no_consideradas, axis=1).reset_index(drop=True)],axis=1)"
   ]
  },
  {
   "cell_type": "code",
   "execution_count": null,
   "id": "adc41575",
   "metadata": {
    "ExecuteTime": {
     "end_time": "2021-08-21T04:42:29.498325Z",
     "start_time": "2021-08-21T04:42:29.451321Z"
    },
    "id": "adc41575",
    "outputId": "a092bd65-ecab-47d4-e03d-e70df1c91d31"
   },
   "outputs": [],
   "source": [
    "#Tabla train final\n",
    "X_train.head()"
   ]
  },
  {
   "attachments": {},
   "cell_type": "markdown",
   "metadata": {},
   "source": [
    "## Conclusiones finales\n",
    "\n",
    "\n",
    "Aunque a lo largo del ejercicio se mencionaron las diversas observaciones que habían en cada una de las secciones, es importante concluir de manera general. El dataset presentaba pocas inconsistencias en cuanto a la calidad de datos, se realizaron diversos arreglos en cuanto a los registros de variables continuas y categóricas, especialmente pudimos observar errores en las cadenas de las variables categóricas que se arreglaron limpiando el texto. \n",
    "\n",
    "Asimismo, pudimos observar en las variables continuas diversas inconsistencias entre las edades y las variables que representaban meses en la vivienda y meses en el trabajo actual, algunas de estas inconsistencias se arreglaron en la sección de outliers y los fenómenos que persistían fueron reemplazados por valores **NaN** debido al bajo nivel de porcentaje que este representaba. Siguiente a esto se hicieron evaluaciones con pruebas para eliminar los valores atípicos y pudimos notar que la distintas variables continuas no seguían una distribución normal, por lo que descartamos realizar Z-score e IQR y acudimos por el método de Percentiles. Posteriormente utilizamos Chi-cuadrada y la prueba Kolmogorov para la imputación de valores ausentes, las variables a las que se redujó el dataset por características unitarias permitió un manejo más sencillo de la aplicación de los métodos mencionados.\n",
    "\n",
    "\n",
    "Finalmente, se crearon características mediante la ingeniería de variables y diversos arreglos que permiten mejorar el desarrollo futuro de modelos de Machine Learning, dichas características fueron evaluadas por el algoritmo VARClus que contiene una evaluación de PCA, y seleccionamos las variables finales a utilizar para nuestro conjunto de entrenamiento."
   ]
  }
 ],
 "metadata": {
  "kernelspec": {
   "display_name": "Python 3",
   "language": "python",
   "name": "python3"
  },
  "language_info": {
   "codemirror_mode": {
    "name": "ipython",
    "version": 3
   },
   "file_extension": ".py",
   "mimetype": "text/x-python",
   "name": "python",
   "nbconvert_exporter": "python",
   "pygments_lexer": "ipython3",
   "version": "3.11.1"
  },
  "orig_nbformat": 4,
  "vscode": {
   "interpreter": {
    "hash": "d803cf1c0427546fb31cf9a0e3800339526bb22baaf4da162a3aac4c2cbd0647"
   }
  }
 },
 "nbformat": 4,
 "nbformat_minor": 2
}
